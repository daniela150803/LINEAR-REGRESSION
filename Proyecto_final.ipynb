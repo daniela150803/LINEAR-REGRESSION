{
  "cells": [
    {
      "cell_type": "markdown",
      "metadata": {
        "id": "view-in-github",
        "colab_type": "text"
      },
      "source": [
        "<a href=\"https://colab.research.google.com/github/daniela150803/LINEAR-REGRESSION/blob/main/Proyecto_final.ipynb\" target=\"_parent\"><img src=\"https://colab.research.google.com/assets/colab-badge.svg\" alt=\"Open In Colab\"/></a>"
      ]
    },
    {
      "cell_type": "markdown",
      "metadata": {
        "id": "eLtMImtSYSRC"
      },
      "source": [
        "Librerias"
      ]
    },
    {
      "cell_type": "code",
      "execution_count": 1,
      "metadata": {
        "colab": {
          "base_uri": "https://localhost:8080/"
        },
        "id": "eHHqVixDXB_W",
        "outputId": "387c860a-006a-4ce1-d0a9-dd7e3b2abf99"
      },
      "outputs": [
        {
          "output_type": "stream",
          "name": "stdout",
          "text": [
            "Requirement already satisfied: keras-tuner in /usr/local/lib/python3.11/dist-packages (1.4.7)\n",
            "Requirement already satisfied: keras in /usr/local/lib/python3.11/dist-packages (from keras-tuner) (3.8.0)\n",
            "Requirement already satisfied: packaging in /usr/local/lib/python3.11/dist-packages (from keras-tuner) (24.2)\n",
            "Requirement already satisfied: requests in /usr/local/lib/python3.11/dist-packages (from keras-tuner) (2.32.3)\n",
            "Requirement already satisfied: kt-legacy in /usr/local/lib/python3.11/dist-packages (from keras-tuner) (1.0.5)\n",
            "Requirement already satisfied: absl-py in /usr/local/lib/python3.11/dist-packages (from keras->keras-tuner) (1.4.0)\n",
            "Requirement already satisfied: numpy in /usr/local/lib/python3.11/dist-packages (from keras->keras-tuner) (1.26.4)\n",
            "Requirement already satisfied: rich in /usr/local/lib/python3.11/dist-packages (from keras->keras-tuner) (13.9.4)\n",
            "Requirement already satisfied: namex in /usr/local/lib/python3.11/dist-packages (from keras->keras-tuner) (0.0.8)\n",
            "Requirement already satisfied: h5py in /usr/local/lib/python3.11/dist-packages (from keras->keras-tuner) (3.12.1)\n",
            "Requirement already satisfied: optree in /usr/local/lib/python3.11/dist-packages (from keras->keras-tuner) (0.14.0)\n",
            "Requirement already satisfied: ml-dtypes in /usr/local/lib/python3.11/dist-packages (from keras->keras-tuner) (0.4.1)\n",
            "Requirement already satisfied: charset-normalizer<4,>=2 in /usr/local/lib/python3.11/dist-packages (from requests->keras-tuner) (3.4.1)\n",
            "Requirement already satisfied: idna<4,>=2.5 in /usr/local/lib/python3.11/dist-packages (from requests->keras-tuner) (3.10)\n",
            "Requirement already satisfied: urllib3<3,>=1.21.1 in /usr/local/lib/python3.11/dist-packages (from requests->keras-tuner) (2.3.0)\n",
            "Requirement already satisfied: certifi>=2017.4.17 in /usr/local/lib/python3.11/dist-packages (from requests->keras-tuner) (2025.1.31)\n",
            "Requirement already satisfied: typing-extensions>=4.5.0 in /usr/local/lib/python3.11/dist-packages (from optree->keras->keras-tuner) (4.12.2)\n",
            "Requirement already satisfied: markdown-it-py>=2.2.0 in /usr/local/lib/python3.11/dist-packages (from rich->keras->keras-tuner) (3.0.0)\n",
            "Requirement already satisfied: pygments<3.0.0,>=2.13.0 in /usr/local/lib/python3.11/dist-packages (from rich->keras->keras-tuner) (2.18.0)\n",
            "Requirement already satisfied: mdurl~=0.1 in /usr/local/lib/python3.11/dist-packages (from markdown-it-py>=2.2.0->rich->keras->keras-tuner) (0.1.2)\n"
          ]
        },
        {
          "output_type": "stream",
          "name": "stderr",
          "text": [
            "<ipython-input-1-584e81c4863c>:7: DeprecationWarning: `import kerastuner` is deprecated, please use `import keras_tuner`.\n",
            "  import kerastuner as kt\n"
          ]
        }
      ],
      "source": [
        "!pip install keras-tuner\n",
        "# Carga de librerías\n",
        "import torch\n",
        "import numpy as np\n",
        "import random\n",
        "import tensorflow as tf\n",
        "import kerastuner as kt\n",
        "import matplotlib.pyplot as plt\n",
        "from sklearn.model_selection import train_test_split\n",
        "from tensorflow.keras.layers import Dropout\n",
        "from tensorflow.keras.regularizers import l2\n",
        "from tensorflow.keras.optimizers import SGD,Adam,RMSprop\n",
        "\n"
      ]
    },
    {
      "cell_type": "code",
      "execution_count": 2,
      "metadata": {
        "id": "Y7roCim4YW2x"
      },
      "outputs": [],
      "source": [
        "from tensorflow.keras.models import Sequential\n",
        "from tensorflow.keras.layers import Flatten, Dense\n",
        "from tensorflow.keras.utils import to_categorical"
      ]
    },
    {
      "cell_type": "markdown",
      "metadata": {
        "id": "gxxE1I-3ZHRB"
      },
      "source": [
        "Dataset"
      ]
    },
    {
      "cell_type": "code",
      "execution_count": 3,
      "metadata": {
        "colab": {
          "base_uri": "https://localhost:8080/"
        },
        "id": "r_XyZLeB7gTR",
        "outputId": "62c72980-1371-4fe3-b276-1b66b578ab03"
      },
      "outputs": [
        {
          "output_type": "stream",
          "name": "stdout",
          "text": [
            "Dimensiones de las imágenes de entrenamiento: torch.Size([124800, 28, 28])\n",
            "Dimensiones de las etiquetas de entrenamiento: torch.Size([124800])\n",
            "Dimensiones de las imágenes de prueba: torch.Size([20800, 28, 28])\n",
            "Dimensiones de las etiquetas de prueba: torch.Size([20800])\n"
          ]
        }
      ],
      "source": [
        "\n",
        "from torchvision import datasets, transforms\n",
        "\n",
        "# Descargar el dataset EMNIST desde torchvision (Este es un dataset de letras, no de dígitos)\n",
        "emnist_train = datasets.EMNIST(root=\"./data\", train=True, download=True, split='letters', transform=transforms.ToTensor())\n",
        "emnist_test = datasets.EMNIST(root=\"./data\", train=False, download=True, split='letters', transform=transforms.ToTensor())\n",
        "\n",
        "# Dimensiones\n",
        "\n",
        "# Ver las dimensiones de los datos de entrenamiento\n",
        "print(\"Dimensiones de las imágenes de entrenamiento:\", emnist_train.data.shape)\n",
        "print(\"Dimensiones de las etiquetas de entrenamiento:\", emnist_train.targets.shape)\n",
        "\n",
        "# Ver las dimensiones de los datos de prueba\n",
        "print(\"Dimensiones de las imágenes de prueba:\", emnist_test.data.shape)\n",
        "print(\"Dimensiones de las etiquetas de prueba:\", emnist_test.targets.shape)"
      ]
    },
    {
      "cell_type": "markdown",
      "metadata": {
        "id": "kdR2nSAn-ovg"
      },
      "source": [
        "Reshape a un tensor de 4 dimensiones: batch size, width, height, color channels"
      ]
    },
    {
      "cell_type": "code",
      "execution_count": 4,
      "metadata": {
        "colab": {
          "base_uri": "https://localhost:8080/"
        },
        "id": "gYSocyiXBCGB",
        "outputId": "3878ee4a-80e6-403c-cce0-38e38b0d12e5"
      },
      "outputs": [
        {
          "output_type": "stream",
          "name": "stdout",
          "text": [
            "Dimensiones de las imágenes de entrenamiento: (124800, 28, 28, 1)\n",
            "Dimensiones de las imágenes de prueba: (20800, 28, 28, 1)\n",
            "Primeras 5 etiquetas de entrenamiento después de la aleatorización: [13 10 19 24 14]\n",
            "Primeras 5 etiquetas de prueba después de la aleatorización: [25  8  8 18 12]\n"
          ]
        }
      ],
      "source": [
        "# Establecer una semilla para reproducibilidad\n",
        "np.random.seed(42)\n",
        "\n",
        "# Convertir las imágenes a un tensor de 4 dimensiones\n",
        "x_train = emnist_train.data.numpy()\n",
        "x_test = emnist_test.data.numpy()\n",
        "\n",
        "# Obtener las etiquetas\n",
        "y_train = emnist_train.targets.numpy()\n",
        "y_test = emnist_test.targets.numpy()\n",
        "\n",
        "# Añadir una dimensión para los canales de color (1 para escala de grises)\n",
        "x_train = np.expand_dims(x_train, axis=-1)\n",
        "x_test = np.expand_dims(x_test, axis=-1)\n",
        "\n",
        "# Aleatorizar datos de entrenamiento\n",
        "train_indices = np.random.permutation(len(x_train))\n",
        "x_train = x_train[train_indices]\n",
        "y_train = y_train[train_indices]\n",
        "\n",
        "# Aleatorizar datos de prueba\n",
        "test_indices = np.random.permutation(len(x_test))\n",
        "x_test = x_test[test_indices]\n",
        "y_test = y_test[test_indices]\n",
        "\n",
        "# Normalizar las imágenes (escalar los valores de píxeles al rango [0, 1])\n",
        "x_train = x_train / 255.0\n",
        "x_test = x_test / 255.0\n",
        "\n",
        "# Verificar las dimensiones y la aleatorización\n",
        "print(\"Dimensiones de las imágenes de entrenamiento:\", x_train.shape)\n",
        "print(\"Dimensiones de las imágenes de prueba:\", x_test.shape)\n",
        "print(\"Primeras 5 etiquetas de entrenamiento después de la aleatorización:\", y_train[:5])\n",
        "print(\"Primeras 5 etiquetas de prueba después de la aleatorización:\", y_test[:5])"
      ]
    },
    {
      "cell_type": "code",
      "execution_count": 5,
      "metadata": {
        "colab": {
          "base_uri": "https://localhost:8080/"
        },
        "id": "xb5S2ARYDBMP",
        "outputId": "9cf00805-f76a-46aa-e3b9-06a1e83553f3"
      },
      "outputs": [
        {
          "output_type": "execute_result",
          "data": {
            "text/plain": [
              "array([13, 10, 19, ..., 22, 11, 17])"
            ]
          },
          "metadata": {},
          "execution_count": 5
        }
      ],
      "source": [
        "#etiqueta de entrenamiento\n",
        "y_train"
      ]
    },
    {
      "cell_type": "code",
      "execution_count": 6,
      "metadata": {
        "id": "kJl8ypJ2DGvR"
      },
      "outputs": [],
      "source": [
        "# Representación one-hot (categórica)\n",
        "y_train = to_categorical(y_train - 1)  # Restar 1 ya que EMNIST tiene etiquetas desde 1 a 26 (de la A a la Z)\n",
        "y_test = to_categorical(y_test - 1)    # Restar 1"
      ]
    },
    {
      "cell_type": "markdown",
      "metadata": {
        "id": "Fb2O4JwJGNSg"
      },
      "source": [
        "Modelo 1"
      ]
    },
    {
      "cell_type": "code",
      "execution_count": null,
      "metadata": {
        "id": "nuquQ1viGPAX"
      },
      "outputs": [],
      "source": [
        "# Hiperparámetros\n",
        "batch_size = 64\n",
        "lr = 0.001\n",
        "num_epochs = 15\n",
        "optimizer = tf.keras.optimizers.Adam(learning_rate=lr)\n",
        "loss = \"categorical_crossentropy\"\n",
        "metrics = [\"accuracy\"]\n",
        "\n",
        "model = Sequential([\n",
        "    Flatten(input_shape=(28, 28, 1)),  # Aplanar la imagen a un vector\n",
        "    Dense(128, activation='relu'),     # Capa oculta con 128 neuronas y activación ReLU\n",
        "    Dense(64, activation='relu'),      # Otra capa oculta con 64 neuronas\n",
        "    Dense(26, activation='softmax')    # Capa de salida con 10 neuronas (una por clase) y activación softmax\n",
        "])\n",
        "model.compile(optimizer=optimizer, loss=loss, metrics=metrics)\n"
      ]
    },
    {
      "cell_type": "markdown",
      "source": [
        "Herramienta Tuner"
      ],
      "metadata": {
        "id": "Kn0DTrMLVB4m"
      }
    },
    {
      "cell_type": "code",
      "source": [
        "\n",
        "def build_model(hp):\n",
        "    model = Sequential()\n",
        "    model.add(Flatten(input_shape=(28, 28, 1)))\n",
        "\n",
        "    # Tune the number of units in the first Dense layer\n",
        "    # Choose an optimal value between 32-512\n",
        "    hp_units1 = hp.Int('units1', min_value=32, max_value=512, step=32)\n",
        "    model.add(Dense(units=hp_units1, activation='relu', kernel_regularizer=l2(0.0001)))\n",
        "    model.add(Dropout(0.2))\n",
        "\n",
        "    # Tune the number of units in the second Dense layer\n",
        "    # Choose an optimal value between 32-512\n",
        "    hp_units2 = hp.Int('units2', min_value=32, max_value=512, step=32)\n",
        "    model.add(Dense(units=hp_units2, activation='relu', kernel_regularizer=l2(0.0001)))\n",
        "    model.add(Dropout(0.2))\n",
        "\n",
        "    model.add(Dense(26, activation='softmax'))\n",
        "\n",
        "    # Tune the learning rate for the optimizer\n",
        "    # Choose an optimal value from 0.01, 0.001, or 0.0001\n",
        "    hp_learning_rate = hp.Choice('learning_rate', values=[1e-2, 1e-3, 1e-4])\n",
        "\n",
        "    # Tune the optimizer\n",
        "    hp_optimizer = hp.Choice('optimizer', values=['adam', 'rmsprop', 'sgd'])\n",
        "    if hp_optimizer == 'adam':\n",
        "        optimizer = Adam(learning_rate=hp_learning_rate)\n",
        "    elif hp_optimizer == 'rmsprop':\n",
        "        optimizer = RMSprop(learning_rate=hp_learning_rate)\n",
        "    else:\n",
        "        optimizer = SGD(learning_rate=hp_learning_rate, momentum=0.9)\n",
        "\n",
        "\n",
        "    model.compile(optimizer=optimizer,\n",
        "                  loss='categorical_crossentropy',\n",
        "                  metrics=['accuracy'])\n",
        "    return model\n",
        "\n",
        "tuner = kt.Hyperband(\n",
        "    build_model,\n",
        "    objective='val_accuracy',\n",
        "    max_epochs=10,\n",
        "    factor=3,\n",
        "    directory='my_dir',\n",
        "    project_name='intro_to_kt'\n",
        ")\n",
        "\n",
        "\n",
        "tuner.search(x_train, y_train, epochs=50, validation_split=0.2)\n",
        "\n",
        "# Get the optimal hyperparameters\n",
        "best_hps=tuner.get_best_hyperparameters(num_trials=1)[0]\n",
        "\n",
        "print(f\"\"\"\n",
        "The hyperparameter search is complete. The optimal number of units in the first densely-connected\n",
        "layer is {best_hps.get('units1')}, the optimal number of units in the second densely-connected\n",
        "layer is {best_hps.get('units2')}, the optimal learning rate for the optimizer\n",
        "is {best_hps.get('learning_rate')}, and the optimal optimizer is {best_hps.get('optimizer')}.\n",
        "\"\"\")\n",
        "\n",
        "# Build the model with the optimal hyperparameters and train it on the data\n",
        "model = tuner.hypermodel.build(best_hps)\n",
        "history = model.fit(x_train, y_train, epochs=50, validation_split=0.2)\n",
        "\n",
        "val_acc_per_epoch = history.history['val_accuracy']\n",
        "best_epoch = val_acc_per_epoch.index(max(val_acc_per_epoch)) + 1\n",
        "print('Best epoch: %d' % (best_epoch,))\n"
      ],
      "metadata": {
        "id": "MaelXIJIPJ0e"
      },
      "execution_count": null,
      "outputs": []
    },
    {
      "cell_type": "markdown",
      "metadata": {
        "id": "ZEBQRpUtaGOk"
      },
      "source": [
        "Modelo 2"
      ]
    },
    {
      "cell_type": "code",
      "execution_count": 8,
      "metadata": {
        "id": "6lxm3aoMkvGC"
      },
      "outputs": [],
      "source": [
        "\n",
        "# Hiperparámetros modificados\n",
        "batch_size = 128  # Aumentamos el tamaño del batch para mayor estabilidad\n",
        "lr = 0.00005      # Reducimos la tasa de aprendizaje para un ajuste más fino\n",
        "num_epochs = 30   # Aumentamos el número de épocas\n",
        "optimizer = tf.keras.optimizers.Adam(learning_rate=lr)\n",
        "loss = \"categorical_crossentropy\"\n",
        "metrics = [\"accuracy\"]\n",
        "model = Sequential([\n",
        "    Flatten(input_shape=(28, 28, 1)),  # Aplanar la imagen a un vector\n",
        "    Dense(512, activation='relu'),     # Capa oculta con 512 neuronas (aumentamos)\n",
        "    Dense(128, activation='relu'),     # Otra capa oculta con 128 neuronas (aumentamos)\n",
        "    Dense(26, activation='softmax')    # Capa de salida con 26 neuronas (una por clase) y activación softmax\n",
        "])\n",
        "model.compile(optimizer=optimizer, loss=loss, metrics=metrics)"
      ]
    },
    {
      "cell_type": "markdown",
      "metadata": {
        "id": "jY8pqfq-ktEf"
      },
      "source": [
        "Modelo 3"
      ]
    },
    {
      "cell_type": "code",
      "execution_count": 9,
      "metadata": {
        "id": "7-ePqQ5fr4ja"
      },
      "outputs": [],
      "source": [
        "# Hiperparámetros ajustados\n",
        "batch_size = 128\n",
        "lr = 0.0001\n",
        "num_epochs = 50\n",
        "optimizer = tf.keras.optimizers.Adam(learning_rate=lr)\n",
        "loss = \"categorical_crossentropy\"\n",
        "metrics = [\"accuracy\"]\n",
        "\n",
        "# Definir el modelo con regularización y dropout\n",
        "model = Sequential([\n",
        "    Flatten(input_shape=(28, 28, 1)),  # Aplanar la imagen a un vector\n",
        "    Dense(256, activation='relu', kernel_regularizer=l2(0.001)),  # Capa oculta con 256 neuronas y regularización L2\n",
        "    Dropout(0.3),  # Dropout del 30%\n",
        "    Dense(128, activation='relu', kernel_regularizer=l2(0.001)),  # Otra capa oculta con 128 neuronas y regularización L2\n",
        "    Dropout(0.3),  # Dropout del 30%\n",
        "    Dense(26, activation='softmax')  # Capa de salida con 26 neuronas (una por clase) y activación softmax\n",
        "])\n",
        "\n",
        "model.compile(optimizer=optimizer, loss=loss, metrics=metrics)"
      ]
    },
    {
      "cell_type": "markdown",
      "metadata": {
        "id": "wm8Mv1PJ4Wk9"
      },
      "source": [
        "Modelo 4"
      ]
    },
    {
      "cell_type": "code",
      "execution_count": 7,
      "metadata": {
        "colab": {
          "base_uri": "https://localhost:8080/"
        },
        "id": "VWcTSQXH4Y4l",
        "outputId": "aca97d5d-b79e-481a-c878-6c765573f854"
      },
      "outputs": [
        {
          "output_type": "stream",
          "name": "stderr",
          "text": [
            "/usr/local/lib/python3.11/dist-packages/keras/src/layers/reshaping/flatten.py:37: UserWarning: Do not pass an `input_shape`/`input_dim` argument to a layer. When using Sequential models, prefer using an `Input(shape)` object as the first layer in the model instead.\n",
            "  super().__init__(**kwargs)\n"
          ]
        }
      ],
      "source": [
        "# Hiperparámetros ajustados\n",
        "batch_size = 64\n",
        "lr = 0.01  # Tasa de aprendizaje más alta para SGD\n",
        "momentum = 0.9  # Momentum para acelerar el entrenamiento\n",
        "num_epochs = 50\n",
        "optimizer =  SGD(learning_rate=lr, momentum=momentum)   # Usar SGD con momentum\n",
        "loss = \"categorical_crossentropy\"\n",
        "metrics = [\"accuracy\"]\n",
        "\n",
        "# Definir el modelo con regularización y dropout\n",
        "model = Sequential([\n",
        "    Flatten(input_shape=(28, 28, 1)),\n",
        "    Dense(256, activation='relu', kernel_regularizer=l2(0.0001)),\n",
        "    Dropout(0.2),\n",
        "    Dense(128, activation='relu', kernel_regularizer=l2(0.0001)),\n",
        "    Dropout(0.2),\n",
        "    Dense(26, activation='softmax')\n",
        "])\n",
        "model.compile(optimizer=optimizer, loss=loss, metrics=metrics)"
      ]
    },
    {
      "cell_type": "markdown",
      "metadata": {
        "id": "Ps0N37U-ygmd"
      },
      "source": [
        "Modelo 5"
      ]
    },
    {
      "cell_type": "code",
      "execution_count": 9,
      "metadata": {
        "colab": {
          "base_uri": "https://localhost:8080/"
        },
        "id": "-nTuIJH0yflG",
        "outputId": "a4576e4f-18b9-4e52-bb26-7c03fe97c174"
      },
      "outputs": [
        {
          "output_type": "stream",
          "name": "stderr",
          "text": [
            "/usr/local/lib/python3.11/dist-packages/keras/src/layers/reshaping/flatten.py:37: UserWarning: Do not pass an `input_shape`/`input_dim` argument to a layer. When using Sequential models, prefer using an `Input(shape)` object as the first layer in the model instead.\n",
            "  super().__init__(**kwargs)\n"
          ]
        }
      ],
      "source": [
        "# Hiperparámetros ajustados\n",
        "batch_size = 64\n",
        "lr = 0.001  # Tasa de aprendizaje más baja\n",
        "momentum = 0.9\n",
        "num_epochs = 100\n",
        "optimizer = Adam(learning_rate=lr)  # Usar Adam en lugar de SGD\n",
        "loss = \"categorical_crossentropy\"\n",
        "metrics = [\"accuracy\"]\n",
        "\n",
        "# Definir el modelo con regularización y dropout\n",
        "model = Sequential([\n",
        "    Flatten(input_shape=(28, 28, 1)),\n",
        "    Dense(512, activation='relu', kernel_regularizer=l2(0.0001)),\n",
        "    Dropout(0.3),\n",
        "    Dense(256, activation='relu', kernel_regularizer=l2(0.0001)),\n",
        "    Dropout(0.3),\n",
        "    Dense(128, activation='relu', kernel_regularizer=l2(0.0001)),\n",
        "    Dropout(0.3),\n",
        "    Dense(26, activation='softmax')\n",
        "])\n",
        "\n",
        "model.compile(optimizer=optimizer, loss=loss, metrics=metrics)\n"
      ]
    },
    {
      "cell_type": "markdown",
      "source": [
        "Modelo 6"
      ],
      "metadata": {
        "id": "65X1IbzvOm7P"
      }
    },
    {
      "cell_type": "code",
      "source": [
        "# Hiperparámetros ajustados\n",
        "batch_size = 80\n",
        "lr = 0.001  # Tasa de aprendizaje reducida para RMSprop\n",
        "num_epochs = 30\n",
        "optimizer = RMSprop(learning_rate=lr)  # Usar RMSprop\n",
        "loss = \"categorical_crossentropy\"\n",
        "metrics = [\"accuracy\"]\n",
        "\n",
        "# Definir el modelo con regularización y dropout mejorado\n",
        "model = Sequential([\n",
        "    Flatten(input_shape=(28, 28, 1)),\n",
        "    Dense(300, activation='relu', kernel_regularizer=l2(0.0001)),\n",
        "    Dropout(0.1),\n",
        "    Dense(128, activation='relu', kernel_regularizer=l2(0.0001)),\n",
        "    Dropout(0.1),\n",
        "    Dense(26, activation='softmax')\n",
        "])\n",
        "model.compile(optimizer=optimizer, loss=loss, metrics=metrics)"
      ],
      "metadata": {
        "id": "LbfnEAH4pnIg"
      },
      "execution_count": null,
      "outputs": []
    },
    {
      "cell_type": "markdown",
      "source": [
        "Modelo 7"
      ],
      "metadata": {
        "id": "ZQgGmGrvk5Gt"
      }
    },
    {
      "cell_type": "code",
      "source": [
        "# Hiperparámetros ajustados\n",
        "batch_size = 195\n",
        "lr = 0.01  # Tasa de aprendizaje más alta para SGD\n",
        "momentum = 0.95  # Momentum para acelerar el entrenamiento\n",
        "num_epochs = 49\n",
        "optimizer =  SGD(learning_rate=lr, momentum=momentum)   # Usar SGD con momentum\n",
        "loss = \"categorical_crossentropy\"\n",
        "metrics = [\"accuracy\"]\n",
        "\n",
        "# Definir el modelo con regularización y dropout\n",
        "model = Sequential([\n",
        "    Flatten(input_shape=(28, 28, 1)),\n",
        "    Dense(320, activation='relu', kernel_regularizer=l2(0.0001)),\n",
        "    Dropout(0.3),\n",
        "    Dense( 384, activation='relu', kernel_regularizer=l2(0.0001)),\n",
        "    Dropout(0.3),\n",
        "    Dense(26, activation='softmax')\n",
        "])\n",
        "model.compile(optimizer=optimizer, loss=loss, metrics=metrics)"
      ],
      "metadata": {
        "colab": {
          "base_uri": "https://localhost:8080/"
        },
        "id": "idnLCeaCWRVr",
        "outputId": "0a68cca3-bb1b-46f3-8309-ea3dc33e57ba"
      },
      "execution_count": 53,
      "outputs": [
        {
          "output_type": "stream",
          "name": "stderr",
          "text": [
            "/usr/local/lib/python3.11/dist-packages/keras/src/layers/reshaping/flatten.py:37: UserWarning: Do not pass an `input_shape`/`input_dim` argument to a layer. When using Sequential models, prefer using an `Input(shape)` object as the first layer in the model instead.\n",
            "  super().__init__(**kwargs)\n"
          ]
        }
      ]
    },
    {
      "cell_type": "markdown",
      "metadata": {
        "id": "hx411WqjGPlI"
      },
      "source": [
        "Entrenamiento"
      ]
    },
    {
      "cell_type": "code",
      "execution_count": 54,
      "metadata": {
        "colab": {
          "base_uri": "https://localhost:8080/"
        },
        "id": "N6EQQccyGRT4",
        "outputId": "bf1a882d-56c8-4243-fcaa-963a3b4f0c8f"
      },
      "outputs": [
        {
          "output_type": "stream",
          "name": "stdout",
          "text": [
            "Epoch 1/49\n",
            "\u001b[1m512/512\u001b[0m \u001b[32m━━━━━━━━━━━━━━━━━━━━\u001b[0m\u001b[37m\u001b[0m \u001b[1m10s\u001b[0m 17ms/step - accuracy: 0.4520 - loss: 1.9707 - val_accuracy: 0.8010 - val_loss: 0.7559\n",
            "Epoch 2/49\n",
            "\u001b[1m512/512\u001b[0m \u001b[32m━━━━━━━━━━━━━━━━━━━━\u001b[0m\u001b[37m\u001b[0m \u001b[1m11s\u001b[0m 19ms/step - accuracy: 0.7717 - loss: 0.8423 - val_accuracy: 0.8491 - val_loss: 0.5833\n",
            "Epoch 3/49\n",
            "\u001b[1m512/512\u001b[0m \u001b[32m━━━━━━━━━━━━━━━━━━━━\u001b[0m\u001b[37m\u001b[0m \u001b[1m10s\u001b[0m 18ms/step - accuracy: 0.8187 - loss: 0.6877 - val_accuracy: 0.8657 - val_loss: 0.5137\n",
            "Epoch 4/49\n",
            "\u001b[1m512/512\u001b[0m \u001b[32m━━━━━━━━━━━━━━━━━━━━\u001b[0m\u001b[37m\u001b[0m \u001b[1m10s\u001b[0m 18ms/step - accuracy: 0.8406 - loss: 0.6034 - val_accuracy: 0.8792 - val_loss: 0.4717\n",
            "Epoch 5/49\n",
            "\u001b[1m512/512\u001b[0m \u001b[32m━━━━━━━━━━━━━━━━━━━━\u001b[0m\u001b[37m\u001b[0m \u001b[1m8s\u001b[0m 17ms/step - accuracy: 0.8545 - loss: 0.5546 - val_accuracy: 0.8870 - val_loss: 0.4434\n",
            "Epoch 6/49\n",
            "\u001b[1m512/512\u001b[0m \u001b[32m━━━━━━━━━━━━━━━━━━━━\u001b[0m\u001b[37m\u001b[0m \u001b[1m10s\u001b[0m 16ms/step - accuracy: 0.8623 - loss: 0.5256 - val_accuracy: 0.8945 - val_loss: 0.4203\n",
            "Epoch 7/49\n",
            "\u001b[1m512/512\u001b[0m \u001b[32m━━━━━━━━━━━━━━━━━━━━\u001b[0m\u001b[37m\u001b[0m \u001b[1m9s\u001b[0m 18ms/step - accuracy: 0.8721 - loss: 0.4980 - val_accuracy: 0.8965 - val_loss: 0.4114\n",
            "Epoch 8/49\n",
            "\u001b[1m512/512\u001b[0m \u001b[32m━━━━━━━━━━━━━━━━━━━━\u001b[0m\u001b[37m\u001b[0m \u001b[1m9s\u001b[0m 18ms/step - accuracy: 0.8742 - loss: 0.4826 - val_accuracy: 0.9007 - val_loss: 0.3995\n",
            "Epoch 9/49\n",
            "\u001b[1m512/512\u001b[0m \u001b[32m━━━━━━━━━━━━━━━━━━━━\u001b[0m\u001b[37m\u001b[0m \u001b[1m9s\u001b[0m 17ms/step - accuracy: 0.8823 - loss: 0.4588 - val_accuracy: 0.9037 - val_loss: 0.3864\n",
            "Epoch 10/49\n",
            "\u001b[1m512/512\u001b[0m \u001b[32m━━━━━━━━━━━━━━━━━━━━\u001b[0m\u001b[37m\u001b[0m \u001b[1m10s\u001b[0m 17ms/step - accuracy: 0.8845 - loss: 0.4484 - val_accuracy: 0.9049 - val_loss: 0.3801\n",
            "Epoch 11/49\n",
            "\u001b[1m512/512\u001b[0m \u001b[32m━━━━━━━━━━━━━━━━━━━━\u001b[0m\u001b[37m\u001b[0m \u001b[1m10s\u001b[0m 19ms/step - accuracy: 0.8906 - loss: 0.4305 - val_accuracy: 0.9066 - val_loss: 0.3749\n",
            "Epoch 12/49\n",
            "\u001b[1m512/512\u001b[0m \u001b[32m━━━━━━━━━━━━━━━━━━━━\u001b[0m\u001b[37m\u001b[0m \u001b[1m10s\u001b[0m 19ms/step - accuracy: 0.8939 - loss: 0.4160 - val_accuracy: 0.9086 - val_loss: 0.3661\n",
            "Epoch 13/49\n",
            "\u001b[1m512/512\u001b[0m \u001b[32m━━━━━━━━━━━━━━━━━━━━\u001b[0m\u001b[37m\u001b[0m \u001b[1m9s\u001b[0m 17ms/step - accuracy: 0.8954 - loss: 0.4101 - val_accuracy: 0.9107 - val_loss: 0.3628\n",
            "Epoch 14/49\n",
            "\u001b[1m512/512\u001b[0m \u001b[32m━━━━━━━━━━━━━━━━━━━━\u001b[0m\u001b[37m\u001b[0m \u001b[1m10s\u001b[0m 16ms/step - accuracy: 0.8987 - loss: 0.3981 - val_accuracy: 0.9131 - val_loss: 0.3549\n",
            "Epoch 15/49\n",
            "\u001b[1m512/512\u001b[0m \u001b[32m━━━━━━━━━━━━━━━━━━━━\u001b[0m\u001b[37m\u001b[0m \u001b[1m10s\u001b[0m 19ms/step - accuracy: 0.8998 - loss: 0.3923 - val_accuracy: 0.9120 - val_loss: 0.3552\n",
            "Epoch 16/49\n",
            "\u001b[1m512/512\u001b[0m \u001b[32m━━━━━━━━━━━━━━━━━━━━\u001b[0m\u001b[37m\u001b[0m \u001b[1m10s\u001b[0m 19ms/step - accuracy: 0.9032 - loss: 0.3813 - val_accuracy: 0.9139 - val_loss: 0.3490\n",
            "Epoch 17/49\n",
            "\u001b[1m512/512\u001b[0m \u001b[32m━━━━━━━━━━━━━━━━━━━━\u001b[0m\u001b[37m\u001b[0m \u001b[1m9s\u001b[0m 17ms/step - accuracy: 0.9020 - loss: 0.3804 - val_accuracy: 0.9109 - val_loss: 0.3510\n",
            "Epoch 18/49\n",
            "\u001b[1m512/512\u001b[0m \u001b[32m━━━━━━━━━━━━━━━━━━━━\u001b[0m\u001b[37m\u001b[0m \u001b[1m10s\u001b[0m 17ms/step - accuracy: 0.9059 - loss: 0.3684 - val_accuracy: 0.9147 - val_loss: 0.3421\n",
            "Epoch 19/49\n",
            "\u001b[1m512/512\u001b[0m \u001b[32m━━━━━━━━━━━━━━━━━━━━\u001b[0m\u001b[37m\u001b[0m \u001b[1m11s\u001b[0m 18ms/step - accuracy: 0.9071 - loss: 0.3644 - val_accuracy: 0.9165 - val_loss: 0.3417\n",
            "Epoch 20/49\n",
            "\u001b[1m512/512\u001b[0m \u001b[32m━━━━━━━━━━━━━━━━━━━━\u001b[0m\u001b[37m\u001b[0m \u001b[1m11s\u001b[0m 19ms/step - accuracy: 0.9082 - loss: 0.3593 - val_accuracy: 0.9149 - val_loss: 0.3408\n",
            "Epoch 21/49\n",
            "\u001b[1m512/512\u001b[0m \u001b[32m━━━━━━━━━━━━━━━━━━━━\u001b[0m\u001b[37m\u001b[0m \u001b[1m10s\u001b[0m 18ms/step - accuracy: 0.9081 - loss: 0.3551 - val_accuracy: 0.9185 - val_loss: 0.3317\n",
            "Epoch 22/49\n",
            "\u001b[1m512/512\u001b[0m \u001b[32m━━━━━━━━━━━━━━━━━━━━\u001b[0m\u001b[37m\u001b[0m \u001b[1m10s\u001b[0m 17ms/step - accuracy: 0.9119 - loss: 0.3480 - val_accuracy: 0.9185 - val_loss: 0.3320\n",
            "Epoch 23/49\n",
            "\u001b[1m512/512\u001b[0m \u001b[32m━━━━━━━━━━━━━━━━━━━━\u001b[0m\u001b[37m\u001b[0m \u001b[1m10s\u001b[0m 17ms/step - accuracy: 0.9106 - loss: 0.3483 - val_accuracy: 0.9185 - val_loss: 0.3323\n",
            "Epoch 24/49\n",
            "\u001b[1m512/512\u001b[0m \u001b[32m━━━━━━━━━━━━━━━━━━━━\u001b[0m\u001b[37m\u001b[0m \u001b[1m10s\u001b[0m 16ms/step - accuracy: 0.9138 - loss: 0.3421 - val_accuracy: 0.9185 - val_loss: 0.3301\n",
            "Epoch 25/49\n",
            "\u001b[1m512/512\u001b[0m \u001b[32m━━━━━━━━━━━━━━━━━━━━\u001b[0m\u001b[37m\u001b[0m \u001b[1m10s\u001b[0m 19ms/step - accuracy: 0.9126 - loss: 0.3376 - val_accuracy: 0.9204 - val_loss: 0.3254\n",
            "Epoch 26/49\n",
            "\u001b[1m512/512\u001b[0m \u001b[32m━━━━━━━━━━━━━━━━━━━━\u001b[0m\u001b[37m\u001b[0m \u001b[1m9s\u001b[0m 17ms/step - accuracy: 0.9139 - loss: 0.3369 - val_accuracy: 0.9202 - val_loss: 0.3277\n",
            "Epoch 27/49\n",
            "\u001b[1m512/512\u001b[0m \u001b[32m━━━━━━━━━━━━━━━━━━━━\u001b[0m\u001b[37m\u001b[0m \u001b[1m8s\u001b[0m 16ms/step - accuracy: 0.9152 - loss: 0.3329 - val_accuracy: 0.9212 - val_loss: 0.3273\n",
            "Epoch 28/49\n",
            "\u001b[1m512/512\u001b[0m \u001b[32m━━━━━━━━━━━━━━━━━━━━\u001b[0m\u001b[37m\u001b[0m \u001b[1m12s\u001b[0m 18ms/step - accuracy: 0.9166 - loss: 0.3264 - val_accuracy: 0.9210 - val_loss: 0.3242\n",
            "Epoch 29/49\n",
            "\u001b[1m512/512\u001b[0m \u001b[32m━━━━━━━━━━━━━━━━━━━━\u001b[0m\u001b[37m\u001b[0m \u001b[1m10s\u001b[0m 19ms/step - accuracy: 0.9173 - loss: 0.3257 - val_accuracy: 0.9211 - val_loss: 0.3230\n",
            "Epoch 30/49\n",
            "\u001b[1m512/512\u001b[0m \u001b[32m━━━━━━━━━━━━━━━━━━━━\u001b[0m\u001b[37m\u001b[0m \u001b[1m9s\u001b[0m 17ms/step - accuracy: 0.9189 - loss: 0.3203 - val_accuracy: 0.9194 - val_loss: 0.3246\n",
            "Epoch 31/49\n",
            "\u001b[1m512/512\u001b[0m \u001b[32m━━━━━━━━━━━━━━━━━━━━\u001b[0m\u001b[37m\u001b[0m \u001b[1m8s\u001b[0m 16ms/step - accuracy: 0.9180 - loss: 0.3169 - val_accuracy: 0.9208 - val_loss: 0.3200\n",
            "Epoch 32/49\n",
            "\u001b[1m512/512\u001b[0m \u001b[32m━━━━━━━━━━━━━━━━━━━━\u001b[0m\u001b[37m\u001b[0m \u001b[1m11s\u001b[0m 17ms/step - accuracy: 0.9221 - loss: 0.3138 - val_accuracy: 0.9223 - val_loss: 0.3177\n",
            "Epoch 33/49\n",
            "\u001b[1m512/512\u001b[0m \u001b[32m━━━━━━━━━━━━━━━━━━━━\u001b[0m\u001b[37m\u001b[0m \u001b[1m12s\u001b[0m 20ms/step - accuracy: 0.9212 - loss: 0.3122 - val_accuracy: 0.9215 - val_loss: 0.3190\n",
            "Epoch 34/49\n",
            "\u001b[1m512/512\u001b[0m \u001b[32m━━━━━━━━━━━━━━━━━━━━\u001b[0m\u001b[37m\u001b[0m \u001b[1m10s\u001b[0m 20ms/step - accuracy: 0.9214 - loss: 0.3071 - val_accuracy: 0.9218 - val_loss: 0.3160\n",
            "Epoch 35/49\n",
            "\u001b[1m512/512\u001b[0m \u001b[32m━━━━━━━━━━━━━━━━━━━━\u001b[0m\u001b[37m\u001b[0m \u001b[1m9s\u001b[0m 17ms/step - accuracy: 0.9206 - loss: 0.3115 - val_accuracy: 0.9220 - val_loss: 0.3171\n",
            "Epoch 36/49\n",
            "\u001b[1m512/512\u001b[0m \u001b[32m━━━━━━━━━━━━━━━━━━━━\u001b[0m\u001b[37m\u001b[0m \u001b[1m10s\u001b[0m 16ms/step - accuracy: 0.9217 - loss: 0.3063 - val_accuracy: 0.9197 - val_loss: 0.3188\n",
            "Epoch 37/49\n",
            "\u001b[1m512/512\u001b[0m \u001b[32m━━━━━━━━━━━━━━━━━━━━\u001b[0m\u001b[37m\u001b[0m \u001b[1m11s\u001b[0m 19ms/step - accuracy: 0.9235 - loss: 0.3022 - val_accuracy: 0.9229 - val_loss: 0.3123\n",
            "Epoch 38/49\n",
            "\u001b[1m512/512\u001b[0m \u001b[32m━━━━━━━━━━━━━━━━━━━━\u001b[0m\u001b[37m\u001b[0m \u001b[1m10s\u001b[0m 19ms/step - accuracy: 0.9207 - loss: 0.3075 - val_accuracy: 0.9228 - val_loss: 0.3123\n",
            "Epoch 39/49\n",
            "\u001b[1m512/512\u001b[0m \u001b[32m━━━━━━━━━━━━━━━━━━━━\u001b[0m\u001b[37m\u001b[0m \u001b[1m10s\u001b[0m 19ms/step - accuracy: 0.9248 - loss: 0.2987 - val_accuracy: 0.9218 - val_loss: 0.3126\n",
            "Epoch 40/49\n",
            "\u001b[1m512/512\u001b[0m \u001b[32m━━━━━━━━━━━━━━━━━━━━\u001b[0m\u001b[37m\u001b[0m \u001b[1m9s\u001b[0m 17ms/step - accuracy: 0.9250 - loss: 0.2968 - val_accuracy: 0.9233 - val_loss: 0.3106\n",
            "Epoch 41/49\n",
            "\u001b[1m512/512\u001b[0m \u001b[32m━━━━━━━━━━━━━━━━━━━━\u001b[0m\u001b[37m\u001b[0m \u001b[1m10s\u001b[0m 17ms/step - accuracy: 0.9247 - loss: 0.2957 - val_accuracy: 0.9213 - val_loss: 0.3147\n",
            "Epoch 42/49\n",
            "\u001b[1m512/512\u001b[0m \u001b[32m━━━━━━━━━━━━━━━━━━━━\u001b[0m\u001b[37m\u001b[0m \u001b[1m10s\u001b[0m 17ms/step - accuracy: 0.9238 - loss: 0.2979 - val_accuracy: 0.9227 - val_loss: 0.3124\n",
            "Epoch 43/49\n",
            "\u001b[1m512/512\u001b[0m \u001b[32m━━━━━━━━━━━━━━━━━━━━\u001b[0m\u001b[37m\u001b[0m \u001b[1m9s\u001b[0m 18ms/step - accuracy: 0.9255 - loss: 0.2944 - val_accuracy: 0.9235 - val_loss: 0.3102\n",
            "Epoch 44/49\n",
            "\u001b[1m512/512\u001b[0m \u001b[32m━━━━━━━━━━━━━━━━━━━━\u001b[0m\u001b[37m\u001b[0m \u001b[1m11s\u001b[0m 19ms/step - accuracy: 0.9257 - loss: 0.2938 - val_accuracy: 0.9247 - val_loss: 0.3073\n",
            "Epoch 45/49\n",
            "\u001b[1m512/512\u001b[0m \u001b[32m━━━━━━━━━━━━━━━━━━━━\u001b[0m\u001b[37m\u001b[0m \u001b[1m8s\u001b[0m 16ms/step - accuracy: 0.9265 - loss: 0.2921 - val_accuracy: 0.9239 - val_loss: 0.3083\n",
            "Epoch 46/49\n",
            "\u001b[1m512/512\u001b[0m \u001b[32m━━━━━━━━━━━━━━━━━━━━\u001b[0m\u001b[37m\u001b[0m \u001b[1m10s\u001b[0m 16ms/step - accuracy: 0.9260 - loss: 0.2918 - val_accuracy: 0.9244 - val_loss: 0.3048\n",
            "Epoch 47/49\n",
            "\u001b[1m512/512\u001b[0m \u001b[32m━━━━━━━━━━━━━━━━━━━━\u001b[0m\u001b[37m\u001b[0m \u001b[1m11s\u001b[0m 18ms/step - accuracy: 0.9284 - loss: 0.2850 - val_accuracy: 0.9235 - val_loss: 0.3070\n",
            "Epoch 48/49\n",
            "\u001b[1m512/512\u001b[0m \u001b[32m━━━━━━━━━━━━━━━━━━━━\u001b[0m\u001b[37m\u001b[0m \u001b[1m11s\u001b[0m 18ms/step - accuracy: 0.9263 - loss: 0.2880 - val_accuracy: 0.9244 - val_loss: 0.3063\n",
            "Epoch 49/49\n",
            "\u001b[1m512/512\u001b[0m \u001b[32m━━━━━━━━━━━━━━━━━━━━\u001b[0m\u001b[37m\u001b[0m \u001b[1m11s\u001b[0m 19ms/step - accuracy: 0.9268 - loss: 0.2875 - val_accuracy: 0.9237 - val_loss: 0.3102\n"
          ]
        }
      ],
      "source": [
        "history = model.fit(x_train, y_train, batch_size=batch_size, epochs=num_epochs, validation_split=0.2)"
      ]
    },
    {
      "cell_type": "markdown",
      "metadata": {
        "id": "E-QdjIyjGWfd"
      },
      "source": [
        "Evolucion del algoritmo"
      ]
    },
    {
      "cell_type": "code",
      "execution_count": 55,
      "metadata": {
        "colab": {
          "base_uri": "https://localhost:8080/",
          "height": 489
        },
        "id": "YE2AYbzksprP",
        "outputId": "590b3a52-fcf6-4a07-a533-44a2140f94ec"
      },
      "outputs": [
        {
          "output_type": "display_data",
          "data": {
            "text/plain": [
              "<Figure size 1200x500 with 2 Axes>"
            ],
            "image/png": "[encoded data removed]"
          },
          "metadata": {}
        }
      ],
      "source": [
        "# Graficar la evolución de la pérdida y la precisión durante el entrenamiento\n",
        "plt.figure(figsize=(12, 5))\n",
        "\n",
        "# Gráfica de la pérdida\n",
        "plt.subplot(1, 2, 1)\n",
        "plt.plot(history.history['loss'], label='Train Loss')\n",
        "plt.plot(history.history['val_loss'], label='Validation Loss')\n",
        "plt.title('Pérdida durante el entrenamiento')\n",
        "plt.xlabel('Época')\n",
        "plt.ylabel('Pérdida')\n",
        "plt.legend()\n",
        "\n",
        "# Gráfica de la precisión\n",
        "plt.subplot(1, 2, 2)\n",
        "plt.plot(history.history['accuracy'], label='Train Accuracy')\n",
        "plt.plot(history.history['val_accuracy'], label='Validation Accuracy')\n",
        "plt.title('Precisión durante el entrenamiento')\n",
        "plt.xlabel('Época')\n",
        "plt.ylabel('Precisión')\n",
        "plt.legend()\n",
        "\n",
        "plt.show()\n"
      ]
    },
    {
      "cell_type": "markdown",
      "metadata": {
        "id": "dgyPc9vGGjWA"
      },
      "source": [
        "Prueba del modelo"
      ]
    },
    {
      "cell_type": "code",
      "execution_count": 51,
      "metadata": {
        "colab": {
          "base_uri": "https://localhost:8080/"
        },
        "id": "p_BbXHg_GmUw",
        "outputId": "e4e7d395-a1d6-4251-81e6-d150c8d0e974"
      },
      "outputs": [
        {
          "output_type": "stream",
          "name": "stdout",
          "text": [
            "650/650 - 2s - 4ms/step - accuracy: 0.9235 - loss: 0.3173\n",
            "Precisión en el conjunto de prueba: 0.9235\n",
            "Pérdida en el conjunto de prueba: 0.3173\n",
            "Precisión de entrenamiento: 0.9281\n",
            "Precisión de validación: 0.9238\n",
            "\u001b[1m650/650\u001b[0m \u001b[32m━━━━━━━━━━━━━━━━━━━━\u001b[0m\u001b[37m\u001b[0m \u001b[1m2s\u001b[0m 3ms/step\n"
          ]
        }
      ],
      "source": [
        "# Evaluar el modelo con los datos de prueba\n",
        "test_loss, test_accuracy = model.evaluate(x_test, y_test, verbose=2)\n",
        "print(f\"Precisión en el conjunto de prueba: {test_accuracy:.4f}\")\n",
        "print(f\"Pérdida en el conjunto de prueba: {test_loss:.4f}\")\n",
        "\n",
        "# Obtener la precisión de entrenamiento y validación\n",
        "train_accuracy = history.history['accuracy'][-1]  # Último valor de la precisión de entrenamiento\n",
        "val_accuracy = history.history['val_accuracy'][-1]  # Último valor de la precisión de validación\n",
        "\n",
        "print(f\"Precisión de entrenamiento: {train_accuracy:.4f}\")\n",
        "print(f\"Precisión de validación: {val_accuracy:.4f}\")\n",
        "\n",
        "# Predicciones en el conjunto de prueba\n",
        "y_pred = model.predict(x_test)\n",
        "y_pred_classes = np.argmax(y_pred, axis=1)\n",
        "y_true_classes = np.argmax(y_test, axis=1)"
      ]
    },
    {
      "source": [
        "# Seleccionar una muestra aleatoria del dataset de test\n",
        "sample_index = np.random.randint(0, len(x_test))  # Selecciona un índice aleatorio\n",
        "sample_image = x_test[sample_index]\n",
        "sample_label = np.argmax(y_test[sample_index])  # Obtén la etiqueta real\n",
        "\n",
        "# Preprocesar la muestra (si es necesario)\n",
        "sample_image = sample_image / 255.0  # Normalizar la imagen\n",
        "sample_image = np.expand_dims(sample_image, axis=0)  # Cambiar la forma para que coincida con la entrada del modelo\n",
        "\n",
        "# Realizar la predicción\n",
        "predicted_probabilities = model.predict(sample_image)\n",
        "predicted_label = np.argmax(predicted_probabilities, axis=1)\n",
        "\n",
        "# Mostrar la imagen y la predicción\n",
        "plt.imshow(sample_image[0, :, :, 0], cmap='gray')\n",
        "plt.title(f'Etiqueta real: {sample_label}, Etiqueta predicha: {predicted_label[0]}')\n",
        "plt.show()\n",
        "\n",
        "# Mostrar las probabilidades de predicción\n",
        "print(f\"Probabilidades de predicción: {predicted_probabilities}\")\n",
        "print(f\"Etiqueta predicha: {predicted_label[0]}, Etiqueta real: {sample_label}\")"
      ],
      "cell_type": "code",
      "metadata": {
        "colab": {
          "base_uri": "https://localhost:8080/",
          "height": 591
        },
        "id": "eg7jN2ocOXZn",
        "outputId": "4f860f43-0722-4be2-ca1c-0329c5ec710a"
      },
      "execution_count": 52,
      "outputs": [
        {
          "output_type": "stream",
          "name": "stdout",
          "text": [
            "\u001b[1m1/1\u001b[0m \u001b[32m━━━━━━━━━━━━━━━━━━━━\u001b[0m\u001b[37m\u001b[0m \u001b[1m0s\u001b[0m 118ms/step\n"
          ]
        },
        {
          "output_type": "display_data",
          "data": {
            "text/plain": [
              "<Figure size 640x480 with 1 Axes>"
            ],
            "image/png": "[encoded data removed]"
          },
          "metadata": {}
        },
        {
          "output_type": "stream",
          "name": "stdout",
          "text": [
            "Probabilidades de predicción: [[2.2377948e-04 1.5599540e-04 6.3697614e-02 8.3710771e-04 4.2527466e-04\n",
            "  7.0546276e-04 8.0067507e-04 1.5919787e-03 7.9114228e-02 4.8298126e-01\n",
            "  4.3794429e-05 3.0759370e-01 6.7988287e-05 3.7715462e-04 2.3316455e-03\n",
            "  1.1207182e-04 7.6272561e-05 1.9366824e-04 8.2101012e-03 1.7259762e-02\n",
            "  3.3242824e-03 6.1204373e-03 5.9550564e-04 1.1863136e-04 2.0864809e-02\n",
            "  2.1768746e-03]]\n",
            "Etiqueta predicha: 9, Etiqueta real: 21\n"
          ]
        }
      ]
    }
  ],
  "metadata": {
    "colab": {
      "provenance": [],
      "authorship_tag": "ABX9TyPIefDIeo9DZP9bvVwYmy0C",
      "include_colab_link": true
    },
    "kernelspec": {
      "display_name": "Python 3",
      "name": "python3"
    },
    "language_info": {
      "name": "python"
    }
  },
  "nbformat": 4,
  "nbformat_minor": 0
}