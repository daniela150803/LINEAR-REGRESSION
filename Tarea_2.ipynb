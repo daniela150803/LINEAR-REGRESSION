{
  "nbformat": 4,
  "nbformat_minor": 0,
  "metadata": {
    "colab": {
      "provenance": [],
      "authorship_tag": "ABX9TyPXR8MQlf9/AGKLx/cn6AK3",
      "include_colab_link": true
    },
    "kernelspec": {
      "name": "python3",
      "display_name": "Python 3"
    },
    "language_info": {
      "name": "python"
    }
  },
  "cells": [
    {
      "cell_type": "markdown",
      "metadata": {
        "id": "view-in-github",
        "colab_type": "text"
      },
      "source": [
        "<a href=\"https://colab.research.google.com/github/daniela150803/LINEAR-REGRESSION/blob/main/Tarea_2.ipynb\" target=\"_parent\"><img src=\"https://colab.research.google.com/assets/colab-badge.svg\" alt=\"Open In Colab\"/></a>"
      ]
    },
    {
      "cell_type": "markdown",
      "source": [
        "Librerias"
      ],
      "metadata": {
        "id": "tazk6tF_d6HN"
      }
    },
    {
      "cell_type": "code",
      "execution_count": 1,
      "metadata": {
        "id": "3PO-B1z8dq4_"
      },
      "outputs": [],
      "source": [
        "import tensorflow as tf\n",
        "import pandas as pd\n",
        "\n",
        "import numpy as np\n",
        "\n",
        "import matplotlib.pyplot as plt\n",
        "%matplotlib inline\n",
        "\n"
      ]
    },
    {
      "cell_type": "markdown",
      "source": [
        "Lectura Data Set texto a numeros"
      ],
      "metadata": {
        "id": "8R6vlh94d-fE"
      }
    },
    {
      "cell_type": "code",
      "source": [
        "\n",
        "data_set = '/content/Diagnostico(Datos).csv'\n",
        "\n",
        "# Leer el archivo CSV\n",
        "df = pd.read_csv(data_set, sep=';', decimal=',')\n",
        "# Obtener información sobre los tipos de datos de cada columna\n",
        "data_types = df.dtypes\n",
        "\n",
        "# Imprimir los tipos de datos\n",
        "data_types\n",
        "df_sin_cabecera = df[1:]\n",
        "for col in df_sin_cabecera.columns:\n",
        "    if pd.api.types.is_object_dtype(df_sin_cabecera[col]):\n",
        "        texto=col\n",
        "if texto:\n",
        "    df[texto] = df[texto].replace({'MASCULINO': 1, 'FEMENINO': 2})\n",
        "\n",
        "# Mostrar las primeras filas del DataFrame actualizado\n",
        "print(df.head())"
      ],
      "metadata": {
        "colab": {
          "base_uri": "https://localhost:8080/"
        },
        "id": "--4js-mDmY-X",
        "outputId": "77239ae4-f9c0-4801-c3f4-560f83275d32"
      },
      "execution_count": 2,
      "outputs": [
        {
          "output_type": "stream",
          "name": "stdout",
          "text": [
            "   EDAD  GENERO  ESTATURA  PESO  PRESION_SANG  RESULTADO1  RESULTADO2  \\\n",
            "0    19       1       181  62.9          87.0          90        57.0   \n",
            "1    19       1       173  75.7          83.0          84        46.0   \n",
            "2    19       1       184  78.5          75.0          72        52.0   \n",
            "3    20       1       151  52.2          87.0          85        53.0   \n",
            "4    20       2       155  53.1          87.0          78        58.0   \n",
            "\n",
            "   RESULTADO3  RESULTADO4  RESULTADO5  RESULTADO6  EVOLUCION  \n",
            "0         124      4.1744        54.0         2.0       1.37  \n",
            "1         225      4.7185       156.6         5.0       2.00  \n",
            "2         143      4.6347        70.4         3.0       1.40  \n",
            "3         191      3.8918       128.2         4.0       1.13  \n",
            "4         171      4.2047        99.6         3.0       0.77  \n"
          ]
        },
        {
          "output_type": "stream",
          "name": "stderr",
          "text": [
            "<ipython-input-2-eb35e5e7ef66>:15: FutureWarning: Downcasting behavior in `replace` is deprecated and will be removed in a future version. To retain the old behavior, explicitly call `result.infer_objects(copy=False)`. To opt-in to the future behavior, set `pd.set_option('future.no_silent_downcasting', True)`\n",
            "  df[texto] = df[texto].replace({'MASCULINO': 1, 'FEMENINO': 2})\n"
          ]
        }
      ]
    },
    {
      "cell_type": "markdown",
      "source": [
        "Convertir en un Tensor"
      ],
      "metadata": {
        "id": "sSUp_4OwbRHk"
      }
    },
    {
      "cell_type": "code",
      "source": [
        "from sklearn.preprocessing import MinMaxScaler\n",
        "\n",
        "# Convertir el DataFrame a un array de NumPy\n",
        "data_array = df.to_numpy()\n",
        "\n",
        "# Separar características (X) y etiquetas (y)\n",
        "X = data_array[:, :-1]  # Todas las columnas excepto la última\n",
        "y = data_array[:, -1]   # La última columna es la etiqueta\n",
        "\n",
        "# Convertir a tensores de TensorFlow\n",
        "X_tensor = tf.convert_to_tensor(X, dtype=tf.float32)\n",
        "y_tensor = tf.convert_to_tensor(y, dtype=tf.float32)\n",
        "\n"
      ],
      "metadata": {
        "id": "AUM1j1n6aoKL"
      },
      "execution_count": 3,
      "outputs": []
    },
    {
      "cell_type": "markdown",
      "source": [
        "Distribucion 80/20"
      ],
      "metadata": {
        "id": "MO46eZbdoLyK"
      }
    },
    {
      "cell_type": "code",
      "source": [
        "# Dividir los datos en conjuntos de entrenamiento y prueba\n",
        "total_filas = X_tensor.shape[0]\n",
        "indice_separacion = int(round(0.8 * total_filas))\n",
        "\n",
        "X_entrenamiento = X_tensor[:indice_separacion]\n",
        "y_entrenamiento = y_tensor[:indice_separacion]\n",
        "\n",
        "X_prueba = X_tensor[indice_separacion:]\n",
        "y_prueba = y_tensor[indice_separacion:]\n",
        "\n",
        "# Imprimir la forma de los conjuntos de datos resultantes\n",
        "print(\"Forma del conjunto de entrenamiento:\", X_entrenamiento.shape)\n",
        "print(\"Forma del conjunto de prueba:\", X_prueba.shape)\n"
      ],
      "metadata": {
        "colab": {
          "base_uri": "https://localhost:8080/"
        },
        "id": "0ga6Dk6PdflT",
        "outputId": "7066ef43-93e0-484f-a24d-dce407143237"
      },
      "execution_count": 4,
      "outputs": [
        {
          "output_type": "stream",
          "name": "stdout",
          "text": [
            "Forma del conjunto de entrenamiento: (354, 11)\n",
            "Forma del conjunto de prueba: (88, 11)\n"
          ]
        }
      ]
    },
    {
      "cell_type": "markdown",
      "source": [
        "Lote de entrenamiento"
      ],
      "metadata": {
        "id": "YwCfKIKpzU-E"
      }
    },
    {
      "cell_type": "code",
      "source": [
        "batch =1\n",
        "epocas=100"
      ],
      "metadata": {
        "id": "j_xwt95nx1X1"
      },
      "execution_count": 5,
      "outputs": []
    },
    {
      "cell_type": "markdown",
      "source": [
        "Inicializacion de parametros"
      ],
      "metadata": {
        "id": "fpx40EABp70Z"
      }
    },
    {
      "cell_type": "code",
      "source": [
        "\n",
        "# Inicializar los pesos (w) con una distribución normal\n",
        "ini_w =tf.keras.initializers.HeNormal()\n",
        "\n",
        "# Inicializar los sesgos (b) con ceros\n",
        "ini_b =tf.keras.initializers.Zeros()"
      ],
      "metadata": {
        "id": "JcHyYbwizTTK"
      },
      "execution_count": 6,
      "outputs": []
    },
    {
      "cell_type": "markdown",
      "source": [
        "Modelo"
      ],
      "metadata": {
        "id": "R7YarIzs3FH4"
      }
    },
    {
      "cell_type": "code",
      "source": [
        "modelo = tf.keras.Sequential([\n",
        "    tf.keras.layers.Dense(\n",
        "        units=1,  # Una neurona (salida)\n",
        "        input_shape=(X_entrenamiento.shape[1],),  # Forma de entrada (número de características)\n",
        "        kernel_initializer=ini_w,  # Inicializador para los pesos\n",
        "        bias_initializer=ini_b  # Inicializador para los sesgos\n",
        "    )\n",
        "])"
      ],
      "metadata": {
        "colab": {
          "base_uri": "https://localhost:8080/"
        },
        "id": "KwhcN-AQ3NUm",
        "outputId": "7cd1596e-d111-4bc7-d4a2-4e8bed7fa3c8"
      },
      "execution_count": 7,
      "outputs": [
        {
          "output_type": "stream",
          "name": "stderr",
          "text": [
            "/usr/local/lib/python3.11/dist-packages/keras/src/layers/core/dense.py:87: UserWarning: Do not pass an `input_shape`/`input_dim` argument to a layer. When using Sequential models, prefer using an `Input(shape)` object as the first layer in the model instead.\n",
            "  super().__init__(activity_regularizer=activity_regularizer, **kwargs)\n"
          ]
        }
      ]
    },
    {
      "cell_type": "markdown",
      "source": [
        "Funcion  de perdida"
      ],
      "metadata": {
        "id": "auzl9w_n3PSr"
      }
    },
    {
      "cell_type": "code",
      "source": [
        "loss_fn=tf.keras.losses.LogCosh(\n",
        "    reduction='sum_over_batch_size', name='log_cosh'\n",
        ")"
      ],
      "metadata": {
        "id": "WOG4oCg4vlmp"
      },
      "execution_count": 8,
      "outputs": []
    },
    {
      "cell_type": "markdown",
      "source": [
        "Algoritmo de Optimizacion\n"
      ],
      "metadata": {
        "id": "uBsleLZ8Meoq"
      }
    },
    {
      "cell_type": "code",
      "source": [
        "\n",
        "# Algoritmo de Optimizacion\n",
        "optimizador = tf.keras.optimizers.Adam(learning_rate=0.003) # hiperparametros tasa de aprendizaje\n",
        "\n",
        "# Compilar el modelo\n",
        "modelo.compile(optimizer=optimizador, loss=loss_fn, metrics=['mae'])\n"
      ],
      "metadata": {
        "id": "ThGrVBSPMjko"
      },
      "execution_count": 9,
      "outputs": []
    },
    {
      "cell_type": "markdown",
      "source": [
        "Entrenamiento"
      ],
      "metadata": {
        "id": "egpg01t0MqHS"
      }
    },
    {
      "cell_type": "code",
      "source": [
        "# Entrenamiento\n",
        "history = modelo.fit(X_entrenamiento,\n",
        "                     y_entrenamiento, epochs=epocas,\n",
        "                     batch_size=batch,\n",
        "                     validation_data=(X_prueba, y_prueba))"
      ],
      "metadata": {
        "colab": {
          "base_uri": "https://localhost:8080/"
        },
        "id": "oSJRJ-Xlp5_b",
        "outputId": "50973da4-fb31-4002-c369-4570d462961a"
      },
      "execution_count": 10,
      "outputs": [
        {
          "output_type": "stream",
          "name": "stdout",
          "text": [
            "Epoch 1/100\n",
            "\u001b[1m354/354\u001b[0m \u001b[32m━━━━━━━━━━━━━━━━━━━━\u001b[0m\u001b[37m\u001b[0m \u001b[1m2s\u001b[0m 2ms/step - loss: 15.6168 - mae: 16.2946 - val_loss: 15.1837 - val_mae: 15.8582\n",
            "Epoch 2/100\n",
            "\u001b[1m354/354\u001b[0m \u001b[32m━━━━━━━━━━━━━━━━━━━━\u001b[0m\u001b[37m\u001b[0m \u001b[1m1s\u001b[0m 2ms/step - loss: 10.3209 - mae: 10.9862 - val_loss: 9.3584 - val_mae: 10.0341\n",
            "Epoch 3/100\n",
            "\u001b[1m354/354\u001b[0m \u001b[32m━━━━━━━━━━━━━━━━━━━━\u001b[0m\u001b[37m\u001b[0m \u001b[1m2s\u001b[0m 3ms/step - loss: 7.4473 - mae: 8.1090 - val_loss: 8.5454 - val_mae: 9.2273\n",
            "Epoch 4/100\n",
            "\u001b[1m354/354\u001b[0m \u001b[32m━━━━━━━━━━━━━━━━━━━━\u001b[0m\u001b[37m\u001b[0m \u001b[1m1s\u001b[0m 3ms/step - loss: 4.8754 - mae: 5.5292 - val_loss: 8.7519 - val_mae: 9.4440\n",
            "Epoch 5/100\n",
            "\u001b[1m354/354\u001b[0m \u001b[32m━━━━━━━━━━━━━━━━━━━━\u001b[0m\u001b[37m\u001b[0m \u001b[1m1s\u001b[0m 2ms/step - loss: 3.5697 - mae: 4.1864 - val_loss: 5.6454 - val_mae: 6.3375\n",
            "Epoch 6/100\n",
            "\u001b[1m354/354\u001b[0m \u001b[32m━━━━━━━━━━━━━━━━━━━━\u001b[0m\u001b[37m\u001b[0m \u001b[1m1s\u001b[0m 2ms/step - loss: 2.0546 - mae: 2.6454 - val_loss: 2.5557 - val_mae: 3.2129\n",
            "Epoch 7/100\n",
            "\u001b[1m354/354\u001b[0m \u001b[32m━━━━━━━━━━━━━━━━━━━━\u001b[0m\u001b[37m\u001b[0m \u001b[1m1s\u001b[0m 2ms/step - loss: 1.3560 - mae: 1.9121 - val_loss: 0.4977 - val_mae: 0.9184\n",
            "Epoch 8/100\n",
            "\u001b[1m354/354\u001b[0m \u001b[32m━━━━━━━━━━━━━━━━━━━━\u001b[0m\u001b[37m\u001b[0m \u001b[1m1s\u001b[0m 2ms/step - loss: 0.9861 - mae: 1.5357 - val_loss: 1.2303 - val_mae: 1.8326\n",
            "Epoch 9/100\n",
            "\u001b[1m354/354\u001b[0m \u001b[32m━━━━━━━━━━━━━━━━━━━━\u001b[0m\u001b[37m\u001b[0m \u001b[1m1s\u001b[0m 2ms/step - loss: 0.6793 - mae: 1.1869 - val_loss: 0.5343 - val_mae: 1.0371\n",
            "Epoch 10/100\n",
            "\u001b[1m354/354\u001b[0m \u001b[32m━━━━━━━━━━━━━━━━━━━━\u001b[0m\u001b[37m\u001b[0m \u001b[1m1s\u001b[0m 2ms/step - loss: 0.5169 - mae: 0.9752 - val_loss: 0.5752 - val_mae: 1.1052\n",
            "Epoch 11/100\n",
            "\u001b[1m354/354\u001b[0m \u001b[32m━━━━━━━━━━━━━━━━━━━━\u001b[0m\u001b[37m\u001b[0m \u001b[1m2s\u001b[0m 3ms/step - loss: 0.4708 - mae: 0.9265 - val_loss: 0.1699 - val_mae: 0.5051\n",
            "Epoch 12/100\n",
            "\u001b[1m354/354\u001b[0m \u001b[32m━━━━━━━━━━━━━━━━━━━━\u001b[0m\u001b[37m\u001b[0m \u001b[1m1s\u001b[0m 2ms/step - loss: 0.3508 - mae: 0.7718 - val_loss: 1.4499 - val_mae: 2.1166\n",
            "Epoch 13/100\n",
            "\u001b[1m354/354\u001b[0m \u001b[32m━━━━━━━━━━━━━━━━━━━━\u001b[0m\u001b[37m\u001b[0m \u001b[1m1s\u001b[0m 2ms/step - loss: 0.3908 - mae: 0.8250 - val_loss: 0.1577 - val_mae: 0.4844\n",
            "Epoch 14/100\n",
            "\u001b[1m354/354\u001b[0m \u001b[32m━━━━━━━━━━━━━━━━━━━━\u001b[0m\u001b[37m\u001b[0m \u001b[1m2s\u001b[0m 3ms/step - loss: 0.4055 - mae: 0.8333 - val_loss: 0.2526 - val_mae: 0.6435\n",
            "Epoch 15/100\n",
            "\u001b[1m354/354\u001b[0m \u001b[32m━━━━━━━━━━━━━━━━━━━━\u001b[0m\u001b[37m\u001b[0m \u001b[1m1s\u001b[0m 3ms/step - loss: 0.3564 - mae: 0.7829 - val_loss: 1.0483 - val_mae: 1.6753\n",
            "Epoch 16/100\n",
            "\u001b[1m354/354\u001b[0m \u001b[32m━━━━━━━━━━━━━━━━━━━━\u001b[0m\u001b[37m\u001b[0m \u001b[1m1s\u001b[0m 2ms/step - loss: 0.4010 - mae: 0.8228 - val_loss: 0.1378 - val_mae: 0.4511\n",
            "Epoch 17/100\n",
            "\u001b[1m354/354\u001b[0m \u001b[32m━━━━━━━━━━━━━━━━━━━━\u001b[0m\u001b[37m\u001b[0m \u001b[1m1s\u001b[0m 2ms/step - loss: 0.2954 - mae: 0.6859 - val_loss: 0.1551 - val_mae: 0.4834\n",
            "Epoch 18/100\n",
            "\u001b[1m354/354\u001b[0m \u001b[32m━━━━━━━━━━━━━━━━━━━━\u001b[0m\u001b[37m\u001b[0m \u001b[1m1s\u001b[0m 2ms/step - loss: 0.3408 - mae: 0.7603 - val_loss: 0.7616 - val_mae: 1.3557\n",
            "Epoch 19/100\n",
            "\u001b[1m354/354\u001b[0m \u001b[32m━━━━━━━━━━━━━━━━━━━━\u001b[0m\u001b[37m\u001b[0m \u001b[1m1s\u001b[0m 2ms/step - loss: 0.3651 - mae: 0.7817 - val_loss: 0.7566 - val_mae: 1.3411\n",
            "Epoch 20/100\n",
            "\u001b[1m354/354\u001b[0m \u001b[32m━━━━━━━━━━━━━━━━━━━━\u001b[0m\u001b[37m\u001b[0m \u001b[1m1s\u001b[0m 2ms/step - loss: 0.4180 - mae: 0.8728 - val_loss: 0.1466 - val_mae: 0.4529\n",
            "Epoch 21/100\n",
            "\u001b[1m354/354\u001b[0m \u001b[32m━━━━━━━━━━━━━━━━━━━━\u001b[0m\u001b[37m\u001b[0m \u001b[1m1s\u001b[0m 2ms/step - loss: 0.3677 - mae: 0.7844 - val_loss: 0.1357 - val_mae: 0.4374\n",
            "Epoch 22/100\n",
            "\u001b[1m354/354\u001b[0m \u001b[32m━━━━━━━━━━━━━━━━━━━━\u001b[0m\u001b[37m\u001b[0m \u001b[1m1s\u001b[0m 2ms/step - loss: 0.3497 - mae: 0.7554 - val_loss: 0.1244 - val_mae: 0.4343\n",
            "Epoch 23/100\n",
            "\u001b[1m354/354\u001b[0m \u001b[32m━━━━━━━━━━━━━━━━━━━━\u001b[0m\u001b[37m\u001b[0m \u001b[1m1s\u001b[0m 2ms/step - loss: 0.2973 - mae: 0.7023 - val_loss: 0.3190 - val_mae: 0.7529\n",
            "Epoch 24/100\n",
            "\u001b[1m354/354\u001b[0m \u001b[32m━━━━━━━━━━━━━━━━━━━━\u001b[0m\u001b[37m\u001b[0m \u001b[1m1s\u001b[0m 2ms/step - loss: 0.3360 - mae: 0.7486 - val_loss: 0.3501 - val_mae: 0.8013\n",
            "Epoch 25/100\n",
            "\u001b[1m354/354\u001b[0m \u001b[32m━━━━━━━━━━━━━━━━━━━━\u001b[0m\u001b[37m\u001b[0m \u001b[1m1s\u001b[0m 2ms/step - loss: 0.3566 - mae: 0.7653 - val_loss: 0.3215 - val_mae: 0.7526\n",
            "Epoch 26/100\n",
            "\u001b[1m354/354\u001b[0m \u001b[32m━━━━━━━━━━━━━━━━━━━━\u001b[0m\u001b[37m\u001b[0m \u001b[1m2s\u001b[0m 3ms/step - loss: 0.4379 - mae: 0.8838 - val_loss: 0.4373 - val_mae: 0.9324\n",
            "Epoch 27/100\n",
            "\u001b[1m354/354\u001b[0m \u001b[32m━━━━━━━━━━━━━━━━━━━━\u001b[0m\u001b[37m\u001b[0m \u001b[1m1s\u001b[0m 3ms/step - loss: 0.3382 - mae: 0.7324 - val_loss: 0.6866 - val_mae: 1.2609\n",
            "Epoch 28/100\n",
            "\u001b[1m354/354\u001b[0m \u001b[32m━━━━━━━━━━━━━━━━━━━━\u001b[0m\u001b[37m\u001b[0m \u001b[1m1s\u001b[0m 2ms/step - loss: 0.3330 - mae: 0.7446 - val_loss: 0.9119 - val_mae: 1.5326\n",
            "Epoch 29/100\n",
            "\u001b[1m354/354\u001b[0m \u001b[32m━━━━━━━━━━━━━━━━━━━━\u001b[0m\u001b[37m\u001b[0m \u001b[1m1s\u001b[0m 2ms/step - loss: 0.3638 - mae: 0.7921 - val_loss: 0.7146 - val_mae: 1.2990\n",
            "Epoch 30/100\n",
            "\u001b[1m354/354\u001b[0m \u001b[32m━━━━━━━━━━━━━━━━━━━━\u001b[0m\u001b[37m\u001b[0m \u001b[1m1s\u001b[0m 2ms/step - loss: 0.3549 - mae: 0.7774 - val_loss: 0.6127 - val_mae: 1.1658\n",
            "Epoch 31/100\n",
            "\u001b[1m354/354\u001b[0m \u001b[32m━━━━━━━━━━━━━━━━━━━━\u001b[0m\u001b[37m\u001b[0m \u001b[1m1s\u001b[0m 2ms/step - loss: 0.3792 - mae: 0.8008 - val_loss: 1.2626 - val_mae: 1.9223\n",
            "Epoch 32/100\n",
            "\u001b[1m354/354\u001b[0m \u001b[32m━━━━━━━━━━━━━━━━━━━━\u001b[0m\u001b[37m\u001b[0m \u001b[1m1s\u001b[0m 2ms/step - loss: 0.3402 - mae: 0.7457 - val_loss: 0.5971 - val_mae: 1.1534\n",
            "Epoch 33/100\n",
            "\u001b[1m354/354\u001b[0m \u001b[32m━━━━━━━━━━━━━━━━━━━━\u001b[0m\u001b[37m\u001b[0m \u001b[1m1s\u001b[0m 2ms/step - loss: 0.3298 - mae: 0.7516 - val_loss: 0.2589 - val_mae: 0.6514\n",
            "Epoch 34/100\n",
            "\u001b[1m354/354\u001b[0m \u001b[32m━━━━━━━━━━━━━━━━━━━━\u001b[0m\u001b[37m\u001b[0m \u001b[1m1s\u001b[0m 2ms/step - loss: 0.2815 - mae: 0.6738 - val_loss: 0.1220 - val_mae: 0.4204\n",
            "Epoch 35/100\n",
            "\u001b[1m354/354\u001b[0m \u001b[32m━━━━━━━━━━━━━━━━━━━━\u001b[0m\u001b[37m\u001b[0m \u001b[1m1s\u001b[0m 2ms/step - loss: 0.2934 - mae: 0.6824 - val_loss: 0.1316 - val_mae: 0.4474\n",
            "Epoch 36/100\n",
            "\u001b[1m354/354\u001b[0m \u001b[32m━━━━━━━━━━━━━━━━━━━━\u001b[0m\u001b[37m\u001b[0m \u001b[1m1s\u001b[0m 3ms/step - loss: 0.3700 - mae: 0.7958 - val_loss: 0.1506 - val_mae: 0.4580\n",
            "Epoch 37/100\n",
            "\u001b[1m354/354\u001b[0m \u001b[32m━━━━━━━━━━━━━━━━━━━━\u001b[0m\u001b[37m\u001b[0m \u001b[1m1s\u001b[0m 3ms/step - loss: 0.3914 - mae: 0.8221 - val_loss: 0.1624 - val_mae: 0.4924\n",
            "Epoch 38/100\n",
            "\u001b[1m354/354\u001b[0m \u001b[32m━━━━━━━━━━━━━━━━━━━━\u001b[0m\u001b[37m\u001b[0m \u001b[1m1s\u001b[0m 3ms/step - loss: 0.2898 - mae: 0.6810 - val_loss: 0.6472 - val_mae: 1.2141\n",
            "Epoch 39/100\n",
            "\u001b[1m354/354\u001b[0m \u001b[32m━━━━━━━━━━━━━━━━━━━━\u001b[0m\u001b[37m\u001b[0m \u001b[1m1s\u001b[0m 2ms/step - loss: 0.4091 - mae: 0.8496 - val_loss: 0.1420 - val_mae: 0.4722\n",
            "Epoch 40/100\n",
            "\u001b[1m354/354\u001b[0m \u001b[32m━━━━━━━━━━━━━━━━━━━━\u001b[0m\u001b[37m\u001b[0m \u001b[1m1s\u001b[0m 2ms/step - loss: 0.2884 - mae: 0.6702 - val_loss: 0.1194 - val_mae: 0.4256\n",
            "Epoch 41/100\n",
            "\u001b[1m354/354\u001b[0m \u001b[32m━━━━━━━━━━━━━━━━━━━━\u001b[0m\u001b[37m\u001b[0m \u001b[1m1s\u001b[0m 2ms/step - loss: 0.3103 - mae: 0.7151 - val_loss: 0.1173 - val_mae: 0.4152\n",
            "Epoch 42/100\n",
            "\u001b[1m354/354\u001b[0m \u001b[32m━━━━━━━━━━━━━━━━━━━━\u001b[0m\u001b[37m\u001b[0m \u001b[1m1s\u001b[0m 2ms/step - loss: 0.2645 - mae: 0.6481 - val_loss: 0.2481 - val_mae: 0.6330\n",
            "Epoch 43/100\n",
            "\u001b[1m354/354\u001b[0m \u001b[32m━━━━━━━━━━━━━━━━━━━━\u001b[0m\u001b[37m\u001b[0m \u001b[1m1s\u001b[0m 2ms/step - loss: 0.3577 - mae: 0.7534 - val_loss: 0.1263 - val_mae: 0.4228\n",
            "Epoch 44/100\n",
            "\u001b[1m354/354\u001b[0m \u001b[32m━━━━━━━━━━━━━━━━━━━━\u001b[0m\u001b[37m\u001b[0m \u001b[1m1s\u001b[0m 2ms/step - loss: 0.3175 - mae: 0.7152 - val_loss: 0.1306 - val_mae: 0.4477\n",
            "Epoch 45/100\n",
            "\u001b[1m354/354\u001b[0m \u001b[32m━━━━━━━━━━━━━━━━━━━━\u001b[0m\u001b[37m\u001b[0m \u001b[1m1s\u001b[0m 2ms/step - loss: 0.4150 - mae: 0.8589 - val_loss: 0.1095 - val_mae: 0.3959\n",
            "Epoch 46/100\n",
            "\u001b[1m354/354\u001b[0m \u001b[32m━━━━━━━━━━━━━━━━━━━━\u001b[0m\u001b[37m\u001b[0m \u001b[1m1s\u001b[0m 2ms/step - loss: 0.3326 - mae: 0.7438 - val_loss: 0.4700 - val_mae: 0.9675\n",
            "Epoch 47/100\n",
            "\u001b[1m354/354\u001b[0m \u001b[32m━━━━━━━━━━━━━━━━━━━━\u001b[0m\u001b[37m\u001b[0m \u001b[1m1s\u001b[0m 3ms/step - loss: 0.3338 - mae: 0.7514 - val_loss: 0.2881 - val_mae: 0.7015\n",
            "Epoch 48/100\n",
            "\u001b[1m354/354\u001b[0m \u001b[32m━━━━━━━━━━━━━━━━━━━━\u001b[0m\u001b[37m\u001b[0m \u001b[1m1s\u001b[0m 3ms/step - loss: 0.3778 - mae: 0.8059 - val_loss: 0.2796 - val_mae: 0.6889\n",
            "Epoch 49/100\n",
            "\u001b[1m354/354\u001b[0m \u001b[32m━━━━━━━━━━━━━━━━━━━━\u001b[0m\u001b[37m\u001b[0m \u001b[1m1s\u001b[0m 2ms/step - loss: 0.3368 - mae: 0.7527 - val_loss: 0.1332 - val_mae: 0.4376\n",
            "Epoch 50/100\n",
            "\u001b[1m354/354\u001b[0m \u001b[32m━━━━━━━━━━━━━━━━━━━━\u001b[0m\u001b[37m\u001b[0m \u001b[1m1s\u001b[0m 2ms/step - loss: 0.3150 - mae: 0.7196 - val_loss: 0.2764 - val_mae: 0.6815\n",
            "Epoch 51/100\n",
            "\u001b[1m354/354\u001b[0m \u001b[32m━━━━━━━━━━━━━━━━━━━━\u001b[0m\u001b[37m\u001b[0m \u001b[1m1s\u001b[0m 2ms/step - loss: 0.3354 - mae: 0.7500 - val_loss: 0.3047 - val_mae: 0.7356\n",
            "Epoch 52/100\n",
            "\u001b[1m354/354\u001b[0m \u001b[32m━━━━━━━━━━━━━━━━━━━━\u001b[0m\u001b[37m\u001b[0m \u001b[1m1s\u001b[0m 2ms/step - loss: 0.3949 - mae: 0.8414 - val_loss: 0.3986 - val_mae: 0.8819\n",
            "Epoch 53/100\n",
            "\u001b[1m354/354\u001b[0m \u001b[32m━━━━━━━━━━━━━━━━━━━━\u001b[0m\u001b[37m\u001b[0m \u001b[1m1s\u001b[0m 2ms/step - loss: 0.4579 - mae: 0.8992 - val_loss: 0.2565 - val_mae: 0.6497\n",
            "Epoch 54/100\n",
            "\u001b[1m354/354\u001b[0m \u001b[32m━━━━━━━━━━━━━━━━━━━━\u001b[0m\u001b[37m\u001b[0m \u001b[1m1s\u001b[0m 2ms/step - loss: 0.3353 - mae: 0.7351 - val_loss: 0.1816 - val_mae: 0.5101\n",
            "Epoch 55/100\n",
            "\u001b[1m354/354\u001b[0m \u001b[32m━━━━━━━━━━━━━━━━━━━━\u001b[0m\u001b[37m\u001b[0m \u001b[1m1s\u001b[0m 2ms/step - loss: 0.2931 - mae: 0.7062 - val_loss: 1.0588 - val_mae: 1.6986\n",
            "Epoch 56/100\n",
            "\u001b[1m354/354\u001b[0m \u001b[32m━━━━━━━━━━━━━━━━━━━━\u001b[0m\u001b[37m\u001b[0m \u001b[1m1s\u001b[0m 2ms/step - loss: 0.3485 - mae: 0.7824 - val_loss: 0.2055 - val_mae: 0.5628\n",
            "Epoch 57/100\n",
            "\u001b[1m354/354\u001b[0m \u001b[32m━━━━━━━━━━━━━━━━━━━━\u001b[0m\u001b[37m\u001b[0m \u001b[1m1s\u001b[0m 2ms/step - loss: 0.3697 - mae: 0.8103 - val_loss: 0.1867 - val_mae: 0.5287\n",
            "Epoch 58/100\n",
            "\u001b[1m354/354\u001b[0m \u001b[32m━━━━━━━━━━━━━━━━━━━━\u001b[0m\u001b[37m\u001b[0m \u001b[1m1s\u001b[0m 2ms/step - loss: 0.3219 - mae: 0.7501 - val_loss: 0.1277 - val_mae: 0.4269\n",
            "Epoch 59/100\n",
            "\u001b[1m354/354\u001b[0m \u001b[32m━━━━━━━━━━━━━━━━━━━━\u001b[0m\u001b[37m\u001b[0m \u001b[1m3s\u001b[0m 6ms/step - loss: 0.3504 - mae: 0.7561 - val_loss: 0.3812 - val_mae: 0.8548\n",
            "Epoch 60/100\n",
            "\u001b[1m354/354\u001b[0m \u001b[32m━━━━━━━━━━━━━━━━━━━━\u001b[0m\u001b[37m\u001b[0m \u001b[1m1s\u001b[0m 2ms/step - loss: 0.3533 - mae: 0.7746 - val_loss: 0.3177 - val_mae: 0.7506\n",
            "Epoch 61/100\n",
            "\u001b[1m354/354\u001b[0m \u001b[32m━━━━━━━━━━━━━━━━━━━━\u001b[0m\u001b[37m\u001b[0m \u001b[1m1s\u001b[0m 2ms/step - loss: 0.4131 - mae: 0.8442 - val_loss: 0.3220 - val_mae: 0.7625\n",
            "Epoch 62/100\n",
            "\u001b[1m354/354\u001b[0m \u001b[32m━━━━━━━━━━━━━━━━━━━━\u001b[0m\u001b[37m\u001b[0m \u001b[1m1s\u001b[0m 2ms/step - loss: 0.4840 - mae: 0.9563 - val_loss: 0.1191 - val_mae: 0.4207\n",
            "Epoch 63/100\n",
            "\u001b[1m354/354\u001b[0m \u001b[32m━━━━━━━━━━━━━━━━━━━━\u001b[0m\u001b[37m\u001b[0m \u001b[1m1s\u001b[0m 2ms/step - loss: 0.2725 - mae: 0.6592 - val_loss: 0.1162 - val_mae: 0.4051\n",
            "Epoch 64/100\n",
            "\u001b[1m354/354\u001b[0m \u001b[32m━━━━━━━━━━━━━━━━━━━━\u001b[0m\u001b[37m\u001b[0m \u001b[1m1s\u001b[0m 2ms/step - loss: 0.3001 - mae: 0.6987 - val_loss: 0.5562 - val_mae: 1.0986\n",
            "Epoch 65/100\n",
            "\u001b[1m354/354\u001b[0m \u001b[32m━━━━━━━━━━━━━━━━━━━━\u001b[0m\u001b[37m\u001b[0m \u001b[1m1s\u001b[0m 2ms/step - loss: 0.3817 - mae: 0.8035 - val_loss: 0.1864 - val_mae: 0.5363\n",
            "Epoch 66/100\n",
            "\u001b[1m354/354\u001b[0m \u001b[32m━━━━━━━━━━━━━━━━━━━━\u001b[0m\u001b[37m\u001b[0m \u001b[1m1s\u001b[0m 2ms/step - loss: 0.3587 - mae: 0.7901 - val_loss: 0.1178 - val_mae: 0.4050\n",
            "Epoch 67/100\n",
            "\u001b[1m354/354\u001b[0m \u001b[32m━━━━━━━━━━━━━━━━━━━━\u001b[0m\u001b[37m\u001b[0m \u001b[1m2s\u001b[0m 3ms/step - loss: 0.4127 - mae: 0.8541 - val_loss: 0.1090 - val_mae: 0.4041\n",
            "Epoch 68/100\n",
            "\u001b[1m354/354\u001b[0m \u001b[32m━━━━━━━━━━━━━━━━━━━━\u001b[0m\u001b[37m\u001b[0m \u001b[1m1s\u001b[0m 4ms/step - loss: 0.3206 - mae: 0.7278 - val_loss: 0.2251 - val_mae: 0.5923\n",
            "Epoch 69/100\n",
            "\u001b[1m354/354\u001b[0m \u001b[32m━━━━━━━━━━━━━━━━━━━━\u001b[0m\u001b[37m\u001b[0m \u001b[1m2s\u001b[0m 2ms/step - loss: 0.3034 - mae: 0.7014 - val_loss: 0.5110 - val_mae: 1.0201\n",
            "Epoch 70/100\n",
            "\u001b[1m354/354\u001b[0m \u001b[32m━━━━━━━━━━━━━━━━━━━━\u001b[0m\u001b[37m\u001b[0m \u001b[1m1s\u001b[0m 2ms/step - loss: 0.2856 - mae: 0.6640 - val_loss: 0.1911 - val_mae: 0.5247\n",
            "Epoch 71/100\n",
            "\u001b[1m354/354\u001b[0m \u001b[32m━━━━━━━━━━━━━━━━━━━━\u001b[0m\u001b[37m\u001b[0m \u001b[1m1s\u001b[0m 2ms/step - loss: 0.3353 - mae: 0.7406 - val_loss: 0.1241 - val_mae: 0.4233\n",
            "Epoch 72/100\n",
            "\u001b[1m354/354\u001b[0m \u001b[32m━━━━━━━━━━━━━━━━━━━━\u001b[0m\u001b[37m\u001b[0m \u001b[1m1s\u001b[0m 2ms/step - loss: 0.2797 - mae: 0.6747 - val_loss: 0.1692 - val_mae: 0.5055\n",
            "Epoch 73/100\n",
            "\u001b[1m354/354\u001b[0m \u001b[32m━━━━━━━━━━━━━━━━━━━━\u001b[0m\u001b[37m\u001b[0m \u001b[1m1s\u001b[0m 2ms/step - loss: 0.2614 - mae: 0.6304 - val_loss: 0.4828 - val_mae: 1.0047\n",
            "Epoch 74/100\n",
            "\u001b[1m354/354\u001b[0m \u001b[32m━━━━━━━━━━━━━━━━━━━━\u001b[0m\u001b[37m\u001b[0m \u001b[1m1s\u001b[0m 2ms/step - loss: 0.3151 - mae: 0.7223 - val_loss: 0.1860 - val_mae: 0.5313\n",
            "Epoch 75/100\n",
            "\u001b[1m354/354\u001b[0m \u001b[32m━━━━━━━━━━━━━━━━━━━━\u001b[0m\u001b[37m\u001b[0m \u001b[1m1s\u001b[0m 2ms/step - loss: 0.2803 - mae: 0.6745 - val_loss: 0.1501 - val_mae: 0.4601\n",
            "Epoch 76/100\n",
            "\u001b[1m354/354\u001b[0m \u001b[32m━━━━━━━━━━━━━━━━━━━━\u001b[0m\u001b[37m\u001b[0m \u001b[1m1s\u001b[0m 2ms/step - loss: 0.4226 - mae: 0.8652 - val_loss: 0.6427 - val_mae: 1.2156\n",
            "Epoch 77/100\n",
            "\u001b[1m354/354\u001b[0m \u001b[32m━━━━━━━━━━━━━━━━━━━━\u001b[0m\u001b[37m\u001b[0m \u001b[1m1s\u001b[0m 2ms/step - loss: 0.3551 - mae: 0.7832 - val_loss: 0.2393 - val_mae: 0.6057\n",
            "Epoch 78/100\n",
            "\u001b[1m354/354\u001b[0m \u001b[32m━━━━━━━━━━━━━━━━━━━━\u001b[0m\u001b[37m\u001b[0m \u001b[1m1s\u001b[0m 2ms/step - loss: 0.3746 - mae: 0.8077 - val_loss: 0.1700 - val_mae: 0.5150\n",
            "Epoch 79/100\n",
            "\u001b[1m354/354\u001b[0m \u001b[32m━━━━━━━━━━━━━━━━━━━━\u001b[0m\u001b[37m\u001b[0m \u001b[1m1s\u001b[0m 3ms/step - loss: 0.3649 - mae: 0.8006 - val_loss: 0.3021 - val_mae: 0.7232\n",
            "Epoch 80/100\n",
            "\u001b[1m354/354\u001b[0m \u001b[32m━━━━━━━━━━━━━━━━━━━━\u001b[0m\u001b[37m\u001b[0m \u001b[1m1s\u001b[0m 3ms/step - loss: 0.3446 - mae: 0.7540 - val_loss: 0.1237 - val_mae: 0.4247\n",
            "Epoch 81/100\n",
            "\u001b[1m354/354\u001b[0m \u001b[32m━━━━━━━━━━━━━━━━━━━━\u001b[0m\u001b[37m\u001b[0m \u001b[1m1s\u001b[0m 2ms/step - loss: 0.3142 - mae: 0.7193 - val_loss: 0.1992 - val_mae: 0.5525\n",
            "Epoch 82/100\n",
            "\u001b[1m354/354\u001b[0m \u001b[32m━━━━━━━━━━━━━━━━━━━━\u001b[0m\u001b[37m\u001b[0m \u001b[1m1s\u001b[0m 2ms/step - loss: 0.2959 - mae: 0.6974 - val_loss: 0.2990 - val_mae: 0.7211\n",
            "Epoch 83/100\n",
            "\u001b[1m354/354\u001b[0m \u001b[32m━━━━━━━━━━━━━━━━━━━━\u001b[0m\u001b[37m\u001b[0m \u001b[1m1s\u001b[0m 2ms/step - loss: 0.4071 - mae: 0.8468 - val_loss: 0.4325 - val_mae: 0.9098\n",
            "Epoch 84/100\n",
            "\u001b[1m354/354\u001b[0m \u001b[32m━━━━━━━━━━━━━━━━━━━━\u001b[0m\u001b[37m\u001b[0m \u001b[1m1s\u001b[0m 2ms/step - loss: 0.2612 - mae: 0.6427 - val_loss: 0.3022 - val_mae: 0.7296\n",
            "Epoch 85/100\n",
            "\u001b[1m354/354\u001b[0m \u001b[32m━━━━━━━━━━━━━━━━━━━━\u001b[0m\u001b[37m\u001b[0m \u001b[1m1s\u001b[0m 2ms/step - loss: 0.3058 - mae: 0.7058 - val_loss: 0.9695 - val_mae: 1.5949\n",
            "Epoch 86/100\n",
            "\u001b[1m354/354\u001b[0m \u001b[32m━━━━━━━━━━━━━━━━━━━━\u001b[0m\u001b[37m\u001b[0m \u001b[1m1s\u001b[0m 2ms/step - loss: 0.3696 - mae: 0.7858 - val_loss: 0.2033 - val_mae: 0.5598\n",
            "Epoch 87/100\n",
            "\u001b[1m354/354\u001b[0m \u001b[32m━━━━━━━━━━━━━━━━━━━━\u001b[0m\u001b[37m\u001b[0m \u001b[1m1s\u001b[0m 2ms/step - loss: 0.3010 - mae: 0.7017 - val_loss: 0.2558 - val_mae: 0.6442\n",
            "Epoch 88/100\n",
            "\u001b[1m354/354\u001b[0m \u001b[32m━━━━━━━━━━━━━━━━━━━━\u001b[0m\u001b[37m\u001b[0m \u001b[1m1s\u001b[0m 2ms/step - loss: 0.3053 - mae: 0.7072 - val_loss: 0.1840 - val_mae: 0.5290\n",
            "Epoch 89/100\n",
            "\u001b[1m354/354\u001b[0m \u001b[32m━━━━━━━━━━━━━━━━━━━━\u001b[0m\u001b[37m\u001b[0m \u001b[1m1s\u001b[0m 2ms/step - loss: 0.2551 - mae: 0.6291 - val_loss: 0.3235 - val_mae: 0.7597\n",
            "Epoch 90/100\n",
            "\u001b[1m354/354\u001b[0m \u001b[32m━━━━━━━━━━━━━━━━━━━━\u001b[0m\u001b[37m\u001b[0m \u001b[1m1s\u001b[0m 3ms/step - loss: 0.3778 - mae: 0.8123 - val_loss: 0.2337 - val_mae: 0.6080\n",
            "Epoch 91/100\n",
            "\u001b[1m354/354\u001b[0m \u001b[32m━━━━━━━━━━━━━━━━━━━━\u001b[0m\u001b[37m\u001b[0m \u001b[1m1s\u001b[0m 3ms/step - loss: 0.3063 - mae: 0.7036 - val_loss: 0.8486 - val_mae: 1.4561\n",
            "Epoch 92/100\n",
            "\u001b[1m354/354\u001b[0m \u001b[32m━━━━━━━━━━━━━━━━━━━━\u001b[0m\u001b[37m\u001b[0m \u001b[1m1s\u001b[0m 3ms/step - loss: 0.4088 - mae: 0.8515 - val_loss: 0.1147 - val_mae: 0.4021\n",
            "Epoch 93/100\n",
            "\u001b[1m354/354\u001b[0m \u001b[32m━━━━━━━━━━━━━━━━━━━━\u001b[0m\u001b[37m\u001b[0m \u001b[1m1s\u001b[0m 2ms/step - loss: 0.3450 - mae: 0.7545 - val_loss: 0.1410 - val_mae: 0.4552\n",
            "Epoch 94/100\n",
            "\u001b[1m354/354\u001b[0m \u001b[32m━━━━━━━━━━━━━━━━━━━━\u001b[0m\u001b[37m\u001b[0m \u001b[1m1s\u001b[0m 2ms/step - loss: 0.3673 - mae: 0.7866 - val_loss: 0.1878 - val_mae: 0.5396\n",
            "Epoch 95/100\n",
            "\u001b[1m354/354\u001b[0m \u001b[32m━━━━━━━━━━━━━━━━━━━━\u001b[0m\u001b[37m\u001b[0m \u001b[1m1s\u001b[0m 2ms/step - loss: 0.2630 - mae: 0.6475 - val_loss: 0.5474 - val_mae: 1.0908\n",
            "Epoch 96/100\n",
            "\u001b[1m354/354\u001b[0m \u001b[32m━━━━━━━━━━━━━━━━━━━━\u001b[0m\u001b[37m\u001b[0m \u001b[1m1s\u001b[0m 2ms/step - loss: 0.3543 - mae: 0.7708 - val_loss: 0.2463 - val_mae: 0.6214\n",
            "Epoch 97/100\n",
            "\u001b[1m354/354\u001b[0m \u001b[32m━━━━━━━━━━━━━━━━━━━━\u001b[0m\u001b[37m\u001b[0m \u001b[1m1s\u001b[0m 2ms/step - loss: 0.3771 - mae: 0.8159 - val_loss: 0.4225 - val_mae: 0.8959\n",
            "Epoch 98/100\n",
            "\u001b[1m354/354\u001b[0m \u001b[32m━━━━━━━━━━━━━━━━━━━━\u001b[0m\u001b[37m\u001b[0m \u001b[1m1s\u001b[0m 2ms/step - loss: 0.4385 - mae: 0.8698 - val_loss: 0.1387 - val_mae: 0.4356\n",
            "Epoch 99/100\n",
            "\u001b[1m354/354\u001b[0m \u001b[32m━━━━━━━━━━━━━━━━━━━━\u001b[0m\u001b[37m\u001b[0m \u001b[1m1s\u001b[0m 2ms/step - loss: 0.2555 - mae: 0.6341 - val_loss: 0.1881 - val_mae: 0.5272\n",
            "Epoch 100/100\n",
            "\u001b[1m354/354\u001b[0m \u001b[32m━━━━━━━━━━━━━━━━━━━━\u001b[0m\u001b[37m\u001b[0m \u001b[1m1s\u001b[0m 2ms/step - loss: 0.3242 - mae: 0.7238 - val_loss: 0.1308 - val_mae: 0.4443\n"
          ]
        }
      ]
    },
    {
      "cell_type": "markdown",
      "source": [
        "Evaluar perdida"
      ],
      "metadata": {
        "id": "55s94q6qp0VR"
      }
    },
    {
      "cell_type": "code",
      "source": [
        "# Evaluar el modelo\n",
        "loss, mae = modelo.evaluate(X_entrenamiento, y_entrenamiento, verbose=0)\n",
        "print(f\"Pérdida en el conjunto de entrenamiento: {loss:.4f}\")\n",
        "\n",
        "# Gráficas de pérdida y precisión\n",
        "plt.figure(figsize=(10, 4))\n",
        "plt.subplot(1, 2, 1)\n",
        "plt.plot(history.history['loss'], label='Pérdida de entrenamiento')\n",
        "plt.xlabel('Época')\n",
        "plt.ylabel('Pérdida')\n",
        "plt.legend()\n",
        "\n"
      ],
      "metadata": {
        "id": "12LvsgGOp2sb",
        "colab": {
          "base_uri": "https://localhost:8080/",
          "height": 425
        },
        "outputId": "c2adc032-44f1-4f87-8e30-c37e4ff35f60"
      },
      "execution_count": 11,
      "outputs": [
        {
          "output_type": "stream",
          "name": "stdout",
          "text": [
            "Pérdida en el conjunto de entrenamiento: 0.1553\n"
          ]
        },
        {
          "output_type": "execute_result",
          "data": {
            "text/plain": [
              "<matplotlib.legend.Legend at 0x7b1c5c1ca810>"
            ]
          },
          "metadata": {},
          "execution_count": 11
        },
        {
          "output_type": "display_data",
          "data": {
            "text/plain": [
              "<Figure size 1000x400 with 1 Axes>"
            ],
            "image/png": "[encoded data removed]"
          },
          "metadata": {}
        }
      ]
    }
  ]
}